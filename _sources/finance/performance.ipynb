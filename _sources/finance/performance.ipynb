{
 "cells": [
  {
   "cell_type": "markdown",
   "metadata": {},
   "source": [
    "# Performance\n",
    "\n",
    "The sunburst chart from the [previous page](./net_worth.ipynb) is good for getting an overview of the portfolio but not ideal for identifying the out- and under-performers. I like the interactive \"heatmap\" from [Finviz](https://finviz.com/map.ashx?t=sec) in the sense that it shows the stake of each equity position in the underlining indices. Here I will use the [treemap](https://plotly.com/python/treemaps/) in `plotly` to create a similar visualization based on hierarchical dataframes. \n",
    "\n",
    "## Create the randomized portoflio\n",
    "\n",
    "First let's regenerate the same [randomized portfolio](./net_worth.ipynb) used for the sunburst chart (Click on \"+\" to see the code). The cash positions won't be added this time since we'd like to focus on investment performance only."
   ]
  },
  {
   "cell_type": "code",
   "execution_count": null,
   "metadata": {
    "tags": [
     "hide-input"
    ]
   },
   "outputs": [],
   "source": [
    "# HIDE CODE\n",
    "import pandas as pd\n",
    "import random\n",
    "\n",
    "\n",
    "def build_hierarchical_dataframe(df, levels, value_column,\n",
    "                                 custom_column=None, cal_tot=True):\n",
    "    \"\"\"Build a hierarchy of levels for Sunburst and Treemap charts.\n",
    "    \"\"\"\n",
    "    df_all_trees = pd.DataFrame(columns=['id', 'parent', 'value', 'custom'])\n",
    "    for i, level in enumerate(levels):\n",
    "        df_tree = pd.DataFrame(columns=['id', 'parent', 'value', 'custom'])\n",
    "        dfg = df.groupby(levels[i:]).sum()\n",
    "        dfg = dfg.reset_index()\n",
    "        df_tree['id'] = dfg[level].copy()\n",
    "        if i < len(levels) - 1:\n",
    "            df_tree['parent'] = dfg[levels[i+1]].copy()\n",
    "        else:\n",
    "            if cal_tot:\n",
    "                df_tree['parent'] = 'Total'\n",
    "        df_tree['value'] = dfg[value_column]\n",
    "        if custom_column:\n",
    "            df_tree['custom'] = dfg[custom_column]\n",
    "        df_all_trees = df_all_trees.append(df_tree, ignore_index=True)\n",
    "    if cal_tot:\n",
    "        total = pd.Series(dict(id='Total', parent='',\n",
    "                                  value=df[value_column].sum(),\n",
    "                                  custom=df[custom_column].sum()))\n",
    "        df_all_trees = df_all_trees.append(total, ignore_index=True)\n",
    "\n",
    "    return df_all_trees\n",
    "\n",
    "# set the seed to make the result reproducible\n",
    "random.seed(110)\n",
    "\n",
    "portfolio = pd.read_pickle(\"../src/data/portfolio.pkl\")\n",
    "\n",
    "# assign a random number of shares to each symbol\n",
    "portfolio[\"Quantity\"] = portfolio[\"Symbol\"].apply(lambda x: random.randint(2, 10))\n",
    "\n",
    "# assign market value based on previousClose\n",
    "portfolio[\"Market Value\"] = portfolio[\"Info\"].apply(lambda x: x[\"previousClose\"])*portfolio[\"Quantity\"]\n",
    "\n",
    "# assign cost basis based on random price between 52 low and high\n",
    "portfolio[\"Cost Basis\"] = portfolio[\"Info\"].apply(lambda x: random.uniform(x[\"fiftyTwoWeekLow\"], x[\"fiftyTwoWeekHigh\"]))*portfolio[\"Quantity\"]\n",
    "\n",
    "# calculate the gain/loss\n",
    "portfolio[\"Gain/Loss\"] = portfolio[\"Market Value\"] - portfolio[\"Cost Basis\"]\n",
    "\n",
    "portfolio.drop(columns=\"Info\", inplace=True)"
   ]
  },
  {
   "cell_type": "markdown",
   "metadata": {},
   "source": [
    "## Create the treemap chart\n",
    "\n",
    "We will first transform the portfolio into a hierarchical dataframe and then use `Treemap` from `plotly` to visualize it. Mouse over each rectangle to see details and click on them to interact. "
   ]
  },
  {
   "cell_type": "code",
   "execution_count": null,
   "metadata": {
    "tags": [
     "hide-input"
    ]
   },
   "outputs": [],
   "source": [
    "# HIDE CODE\n",
    "import plotly.graph_objects as go\n",
    "\n",
    "# define the structure\n",
    "levels = [\"Symbol\", \"Sector\", \"Category\"]\n",
    "value_column = \"Market Value\"\n",
    "custom_column = \"Gain/Loss\"\n",
    "\n",
    "# reform the dataframe\n",
    "df_all_trees = build_hierarchical_dataframe(portfolio, levels, value_column, custom_column=custom_column)\n",
    "\n",
    "# add additional information to the dataframe\n",
    "df_all_trees['value_dollar'] = df_all_trees['value'].apply(\n",
    "    lambda x: f\"$ {x:,.0f}\")\n",
    "df_all_trees['change'] = df_all_trees['custom'].apply(\n",
    "    lambda x: f\"$ {x:,.0f}\" if x != 0 else \"-\")\n",
    "df_all_trees['change_per'] = (df_all_trees['custom']/(\n",
    "    df_all_trees['value']-df_all_trees['custom'])).apply(\n",
    "        lambda x: f\"{x*100:.1f}%\" if x else '-').replace(\"nan\", \"-\")\n",
    "df_all_trees['change'] = df_all_trees['change'].replace(\"$ nan\", \"-\")\n",
    "df_all_trees['change_per'] = df_all_trees['change_per'].replace(\n",
    "    \"nan%\", \"-\")\n",
    "\n",
    "# make the plot\n",
    "fig = go.Figure(go.Treemap(\n",
    "    labels=df_all_trees['id'],\n",
    "    parents=df_all_trees['parent'],\n",
    "    values=df_all_trees['value'],\n",
    "    branchvalues='total',\n",
    "    textinfo='label+percent entry',\n",
    "    marker=dict(\n",
    "    colors=df_all_trees['change_per'].str.rstrip(\"%\").apply(\n",
    "        lambda x: float(x) if x != '-' else 0),\n",
    "    colorscale=[[0, 'red'], [0.5, 'white'], [1.0, 'green']],\n",
    "    cauto=False,\n",
    "    cmax=100,\n",
    "    cmin=-100,\n",
    "    cmid=0),\n",
    "    customdata=df_all_trees[['value_dollar', 'change',\n",
    "                             'change_per']],\n",
    "    # customize tooltip\n",
    "    hovertemplate=\"<b>%{label}</b><br><br>\"\n",
    "                + \"Market value: %{customdata[0]}<br>\"\n",
    "                + \"Change: %{customdata[1]} (%{customdata[2]})<br>\"\n",
    "                + \"<extra></extra>\"    \n",
    "\n",
    "))\n",
    "\n",
    "fig.update_traces(textfont_size=14)\n",
    "fig.update_layout(margin=dict(t=20, b=38, r=10, l=10))\n",
    "fig.show()\n"
   ]
  },
  {
   "cell_type": "markdown",
   "metadata": {},
   "source": [
    "## Conclusion\n",
    "\n",
    "Instead of using the default color palette (which I quite like), I used the `marker` argument to define a continuous colorscale (from green to white to red). This way without the tooltip we can already identify the best performers (the greenest rectangles) and the worst ones (the reddest). It's also easy to see which sector performs the best. One could also use other information stored in the \"Info\" column of the original portfolio dataframe to create different flavors of categorization (such as by market capitalization or by country of origin). I used the percentage change here to create the colorscale and set \"100\" (%) on both ends. This can be easily customized to change the linearity of the colorscale for different visualization purposes. Refer to the [official documentation of treemap](https://plotly.github.io/plotly.py-docs/generated/plotly.graph_objects.Treemap.html) for a full list of customization possibilities."
   ]
  }
 ],
 "metadata": {
  "kernelspec": {
   "display_name": "Python 3.8.6 64-bit ('web-venv')",
   "metadata": {
    "interpreter": {
     "hash": "9a3edad073586e8ec22559a3aa839b23bfa1ea18200fd312e13581145a5ce671"
    }
   },
   "name": "python3"
  },
  "language_info": {
   "codemirror_mode": {
    "name": "ipython",
    "version": 3
   },
   "file_extension": ".py",
   "mimetype": "text/x-python",
   "name": "python",
   "nbconvert_exporter": "python",
   "pygments_lexer": "ipython3",
   "version": "3.8.6-final"
  },
  "widgets": {
   "application/vnd.jupyter.widget-state+json": {
    "state": {},
    "version_major": 2,
    "version_minor": 0
   }
  }
 },
 "nbformat": 4,
 "nbformat_minor": 4
}