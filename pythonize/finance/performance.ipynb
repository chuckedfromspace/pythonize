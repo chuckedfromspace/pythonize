{
 "cells": [
  {
   "cell_type": "markdown",
   "metadata": {},
   "source": [
    "# Performance\n",
    "\n",
    "The sunburst chart from the [previous page](./net_worth.ipynb) is good for getting an overview of the portfolio but not ideal for identifying the out- and under-performers. I like the interactive \"heatmap\" from [Finviz](https://finviz.com/map.ashx?t=sec) in the sense that it shows the stake of each equity position in the underlining indices. Here I will use the [treemap](https://plotly.com/python/treemaps/) in `plotly` to create a similar visualization based on hierarchical dataframes. \n",
    "\n",
    "## Create the randomized portoflio\n",
    "\n",
    "First let's regenerate the same [randomized portfolio](./net_worth.ipynb) used for the sunburst chart (Click on \"+\" to see the code). The cash positions won't be added this time since we'd like to focus on investment performance only."
   ]
  },
  {
   "cell_type": "code",
   "execution_count": 1,
   "metadata": {
    "tags": [
     "hide-input"
    ]
   },
   "outputs": [],
   "source": [
    "# HIDE CODE\n",
    "import pandas as pd\n",
    "import random\n",
    "\n",
    "\n",
    "def build_hierarchical_dataframe(df, levels, value_column,\n",
    "                                 custom_column=None, cal_tot=True):\n",
    "    \"\"\"Build a hierarchy of levels for Sunburst and Treemap charts.\n",
    "    \"\"\"\n",
    "    df_all_trees = pd.DataFrame(columns=['id', 'parent', 'value', 'custom'])\n",
    "    for i, level in enumerate(levels):\n",
    "        df_tree = pd.DataFrame(columns=['id', 'parent', 'value', 'custom'])\n",
    "        dfg = df.groupby(levels[i:]).sum()\n",
    "        dfg = dfg.reset_index()\n",
    "        df_tree['id'] = dfg[level].copy()\n",
    "        if i < len(levels) - 1:\n",
    "            df_tree['parent'] = dfg[levels[i+1]].copy()\n",
    "        else:\n",
    "            if cal_tot:\n",
    "                df_tree['parent'] = 'Total'\n",
    "        df_tree['value'] = dfg[value_column]\n",
    "        if custom_column:\n",
    "            df_tree['custom'] = dfg[custom_column]\n",
    "        df_all_trees = df_all_trees.append(df_tree, ignore_index=True)\n",
    "    if cal_tot:\n",
    "        total = pd.Series(dict(id='Total', parent='',\n",
    "                                  value=df[value_column].sum(),\n",
    "                                  custom=df[custom_column].sum()))\n",
    "        df_all_trees = df_all_trees.append(total, ignore_index=True)\n",
    "\n",
    "    return df_all_trees\n",
    "\n",
    "# set the seed to make the result reproducible\n",
    "random.seed(110)\n",
    "\n",
    "portfolio = pd.read_pickle(\"../src/data/portfolio.pkl\")\n",
    "\n",
    "# assign a random number of shares to each symbol\n",
    "portfolio[\"Quantity\"] = portfolio[\"Symbol\"].apply(lambda x: random.randint(2, 10))\n",
    "\n",
    "# assign market value based on previousClose\n",
    "portfolio[\"Market Value\"] = portfolio[\"Info\"].apply(lambda x: x[\"previousClose\"])*portfolio[\"Quantity\"]\n",
    "\n",
    "# assign cost basis based on random price between 52 low and high\n",
    "portfolio[\"Cost Basis\"] = portfolio[\"Info\"].apply(lambda x: random.uniform(x[\"fiftyTwoWeekLow\"], x[\"fiftyTwoWeekHigh\"]))*portfolio[\"Quantity\"]\n",
    "\n",
    "# calculate the gain/loss\n",
    "portfolio[\"Gain/Loss\"] = portfolio[\"Market Value\"] - portfolio[\"Cost Basis\"]\n",
    "\n",
    "portfolio.drop(columns=\"Info\", inplace=True)"
   ]
  },
  {
   "cell_type": "markdown",
   "metadata": {},
   "source": [
    "## Create the treemap chart\n",
    "\n",
    "We will first transform the portfolio into a hierarchical dataframe and then use `Treemap` from `plotly` to visualize it. Mouse over each rectangle to see details and click on them to interact. "
   ]
  },
  {
   "cell_type": "code",
   "execution_count": 2,
   "metadata": {
    "tags": [
     "hide-input"
    ]
   },
   "outputs": [
    {
     "data": {
      "application/vnd.plotly.v1+json": {
       "config": {
        "plotlyServerURL": "https://plot.ly"
       },
       "data": [
        {
         "branchvalues": "total",
         "customdata": [
          [
           "$ 965",
           "$ 317",
           "48.9%"
          ],
          [
           "$ 410",
           "$ -45",
           "-9.9%"
          ],
          [
           "$ 1,785",
           "$ 135",
           "8.2%"
          ],
          [
           "$ 349",
           "$ -7",
           "-2.1%"
          ],
          [
           "$ 1,638",
           "$ 24",
           "1.5%"
          ],
          [
           "$ 1,222",
           "$ 464",
           "61.1%"
          ],
          [
           "$ 1,336",
           "$ -13",
           "-1.0%"
          ],
          [
           "$ 237",
           "$ 128",
           "118.5%"
          ],
          [
           "$ 545",
           "$ 227",
           "71.4%"
          ],
          [
           "$ 209",
           "$ -148",
           "-41.5%"
          ],
          [
           "$ 732",
           "$ 349",
           "91.1%"
          ],
          [
           "$ 204",
           "$ 94",
           "85.6%"
          ],
          [
           "$ 771",
           "$ 22",
           "3.0%"
          ],
          [
           "$ 238",
           "$ 35",
           "17.3%"
          ],
          [
           "$ 395",
           "$ 15",
           "4.0%"
          ],
          [
           "$ 95",
           "$ 4",
           "4.8%"
          ],
          [
           "$ 1,446",
           "$ 147",
           "11.4%"
          ],
          [
           "$ 463",
           "$ 131",
           "39.7%"
          ],
          [
           "$ 1,505",
           "$ 957",
           "174.6%"
          ],
          [
           "$ 290",
           "$ 18",
           "6.5%"
          ],
          [
           "$ 1,333",
           "$ 75",
           "5.9%"
          ],
          [
           "$ 432",
           "$ -169",
           "-28.1%"
          ],
          [
           "$ 865",
           "$ -101",
           "-10.4%"
          ],
          [
           "$ 439",
           "$ 222",
           "102.2%"
          ],
          [
           "$ 2,245",
           "$ 1,284",
           "133.7%"
          ],
          [
           "$ 163",
           "$ 40",
           "32.0%"
          ],
          [
           "$ 224",
           "$ -8",
           "-3.4%"
          ],
          [
           "$ 702",
           "$ 42",
           "6.4%"
          ],
          [
           "$ 216",
           "$ -21",
           "-8.9%"
          ],
          [
           "$ 1,196",
           "$ 447",
           "59.8%"
          ],
          [
           "$ 452",
           "$ 28",
           "6.6%"
          ],
          [
           "$ 218",
           "$ 32",
           "17.1%"
          ],
          [
           "$ 349",
           "$ -7",
           "-2.1%"
          ],
          [
           "$ 2,926",
           "$ 889",
           "43.7%"
          ],
          [
           "$ 490",
           "$ 20",
           "4.2%"
          ],
          [
           "$ 655",
           "$ -177",
           "-21.3%"
          ],
          [
           "$ 3,377",
           "$ 9",
           "0.3%"
          ],
          [
           "$ 2,751",
           "$ 452",
           "19.7%"
          ],
          [
           "$ 1,196",
           "$ 447",
           "59.8%"
          ],
          [
           "$ 6,625",
           "$ 1,988",
           "42.9%"
          ],
          [
           "$ 2,955",
           "$ 1,237",
           "72.0%"
          ],
          [
           "$ 452",
           "$ 28",
           "6.6%"
          ],
          [
           "$ 1,336",
           "$ -13",
           "-1.0%"
          ],
          [
           "$ 209",
           "$ -148",
           "-41.5%"
          ],
          [
           "$ 1,545",
           "$ 440",
           "39.8%"
          ],
          [
           "$ 21,777",
           "$ 4,285",
           "24.5%"
          ],
          [
           "$ 23,321",
           "$ 4,725",
           "25.4%"
          ]
         ],
         "hovertemplate": "<b>%{label}</b><br><br>Market value: %{customdata[0]}<br>Change: %{customdata[1]} (%{customdata[2]})<br><extra></extra>",
         "labels": [
          "ABBV",
          "AON",
          "BDX",
          "BND",
          "BRK.B",
          "CPRT",
          "DLR",
          "DXC",
          "EBAY",
          "FE",
          "GRMN",
          "HPQ",
          "IBM",
          "JNPR",
          "KMB",
          "KR",
          "LHX",
          "LNC",
          "LRCX",
          "LVS",
          "MMM",
          "MPC",
          "MTB",
          "NKE",
          "PH",
          "ROL",
          "SLB",
          "TJX",
          "UAL",
          "VTI",
          "WRK",
          "WYNN",
          "Bond",
          "Consumer Discretionary",
          "Consumer Staples",
          "Energy",
          "Financials",
          "Health Care",
          "Index",
          "Industrials",
          "Information Technology",
          "Materials",
          "Real Estate",
          "Utilities",
          "ETF",
          "Stock",
          "Total"
         ],
         "marker": {
          "cauto": false,
          "cmax": 100,
          "cmid": 0,
          "cmin": -100,
          "colors": [
           48.9,
           -9.9,
           8.2,
           -2.1,
           1.5,
           61.1,
           -1,
           118.5,
           71.4,
           -41.5,
           91.1,
           85.6,
           3,
           17.3,
           4,
           4.8,
           11.4,
           39.7,
           174.6,
           6.5,
           5.9,
           -28.1,
           -10.4,
           102.2,
           133.7,
           32,
           -3.4,
           6.4,
           -8.9,
           59.8,
           6.6,
           17.1,
           -2.1,
           43.7,
           4.2,
           -21.3,
           0.3,
           19.7,
           59.8,
           42.9,
           72,
           6.6,
           -1,
           -41.5,
           39.8,
           24.5,
           25.4
          ],
          "colorscale": [
           [
            0,
            "red"
           ],
           [
            0.5,
            "white"
           ],
           [
            1,
            "green"
           ]
          ]
         },
         "parents": [
          "Health Care",
          "Financials",
          "Health Care",
          "Bond",
          "Financials",
          "Industrials",
          "Real Estate",
          "Information Technology",
          "Consumer Discretionary",
          "Utilities",
          "Consumer Discretionary",
          "Information Technology",
          "Information Technology",
          "Information Technology",
          "Consumer Staples",
          "Consumer Staples",
          "Industrials",
          "Financials",
          "Information Technology",
          "Consumer Discretionary",
          "Industrials",
          "Energy",
          "Financials",
          "Consumer Discretionary",
          "Industrials",
          "Industrials",
          "Energy",
          "Consumer Discretionary",
          "Industrials",
          "Index",
          "Materials",
          "Consumer Discretionary",
          "ETF",
          "Stock",
          "Stock",
          "Stock",
          "Stock",
          "Stock",
          "ETF",
          "Stock",
          "Stock",
          "Stock",
          "Stock",
          "Stock",
          "Total",
          "Total",
          ""
         ],
         "textfont": {
          "size": 14
         },
         "textinfo": "label+percent entry",
         "type": "treemap",
         "values": [
          965.43,
          410.44,
          1785.42,
          349.08,
          1638.21,
          1221.8000000000002,
          1336,
          236.8,
          544.8,
          209.37,
          731.88,
          204.24,
          771.1800000000001,
          238,
          395.28,
          94.89,
          1445.6,
          462.68999999999994,
          1504.8899999999999,
          289.6,
          1332.96,
          431.8,
          865.44,
          439.04999999999995,
          2245.28,
          163.2,
          223.56,
          702.2,
          216.45,
          1195.5,
          452.29999999999995,
          218.06,
          349.08,
          2925.59,
          490.16999999999996,
          655.36,
          3376.78,
          2750.85,
          1195.5,
          6625.29,
          2955.1099999999997,
          452.29999999999995,
          1336,
          209.37,
          1544.58,
          21776.82,
          23321.4
         ]
        }
       ],
       "layout": {
        "margin": {
         "b": 38,
         "l": 10,
         "r": 10,
         "t": 20
        },
        "template": {
         "data": {
          "bar": [
           {
            "error_x": {
             "color": "#2a3f5f"
            },
            "error_y": {
             "color": "#2a3f5f"
            },
            "marker": {
             "line": {
              "color": "#E5ECF6",
              "width": 0.5
             }
            },
            "type": "bar"
           }
          ],
          "barpolar": [
           {
            "marker": {
             "line": {
              "color": "#E5ECF6",
              "width": 0.5
             }
            },
            "type": "barpolar"
           }
          ],
          "carpet": [
           {
            "aaxis": {
             "endlinecolor": "#2a3f5f",
             "gridcolor": "white",
             "linecolor": "white",
             "minorgridcolor": "white",
             "startlinecolor": "#2a3f5f"
            },
            "baxis": {
             "endlinecolor": "#2a3f5f",
             "gridcolor": "white",
             "linecolor": "white",
             "minorgridcolor": "white",
             "startlinecolor": "#2a3f5f"
            },
            "type": "carpet"
           }
          ],
          "choropleth": [
           {
            "colorbar": {
             "outlinewidth": 0,
             "ticks": ""
            },
            "type": "choropleth"
           }
          ],
          "contour": [
           {
            "colorbar": {
             "outlinewidth": 0,
             "ticks": ""
            },
            "colorscale": [
             [
              0,
              "#0d0887"
             ],
             [
              0.1111111111111111,
              "#46039f"
             ],
             [
              0.2222222222222222,
              "#7201a8"
             ],
             [
              0.3333333333333333,
              "#9c179e"
             ],
             [
              0.4444444444444444,
              "#bd3786"
             ],
             [
              0.5555555555555556,
              "#d8576b"
             ],
             [
              0.6666666666666666,
              "#ed7953"
             ],
             [
              0.7777777777777778,
              "#fb9f3a"
             ],
             [
              0.8888888888888888,
              "#fdca26"
             ],
             [
              1,
              "#f0f921"
             ]
            ],
            "type": "contour"
           }
          ],
          "contourcarpet": [
           {
            "colorbar": {
             "outlinewidth": 0,
             "ticks": ""
            },
            "type": "contourcarpet"
           }
          ],
          "heatmap": [
           {
            "colorbar": {
             "outlinewidth": 0,
             "ticks": ""
            },
            "colorscale": [
             [
              0,
              "#0d0887"
             ],
             [
              0.1111111111111111,
              "#46039f"
             ],
             [
              0.2222222222222222,
              "#7201a8"
             ],
             [
              0.3333333333333333,
              "#9c179e"
             ],
             [
              0.4444444444444444,
              "#bd3786"
             ],
             [
              0.5555555555555556,
              "#d8576b"
             ],
             [
              0.6666666666666666,
              "#ed7953"
             ],
             [
              0.7777777777777778,
              "#fb9f3a"
             ],
             [
              0.8888888888888888,
              "#fdca26"
             ],
             [
              1,
              "#f0f921"
             ]
            ],
            "type": "heatmap"
           }
          ],
          "heatmapgl": [
           {
            "colorbar": {
             "outlinewidth": 0,
             "ticks": ""
            },
            "colorscale": [
             [
              0,
              "#0d0887"
             ],
             [
              0.1111111111111111,
              "#46039f"
             ],
             [
              0.2222222222222222,
              "#7201a8"
             ],
             [
              0.3333333333333333,
              "#9c179e"
             ],
             [
              0.4444444444444444,
              "#bd3786"
             ],
             [
              0.5555555555555556,
              "#d8576b"
             ],
             [
              0.6666666666666666,
              "#ed7953"
             ],
             [
              0.7777777777777778,
              "#fb9f3a"
             ],
             [
              0.8888888888888888,
              "#fdca26"
             ],
             [
              1,
              "#f0f921"
             ]
            ],
            "type": "heatmapgl"
           }
          ],
          "histogram": [
           {
            "marker": {
             "colorbar": {
              "outlinewidth": 0,
              "ticks": ""
             }
            },
            "type": "histogram"
           }
          ],
          "histogram2d": [
           {
            "colorbar": {
             "outlinewidth": 0,
             "ticks": ""
            },
            "colorscale": [
             [
              0,
              "#0d0887"
             ],
             [
              0.1111111111111111,
              "#46039f"
             ],
             [
              0.2222222222222222,
              "#7201a8"
             ],
             [
              0.3333333333333333,
              "#9c179e"
             ],
             [
              0.4444444444444444,
              "#bd3786"
             ],
             [
              0.5555555555555556,
              "#d8576b"
             ],
             [
              0.6666666666666666,
              "#ed7953"
             ],
             [
              0.7777777777777778,
              "#fb9f3a"
             ],
             [
              0.8888888888888888,
              "#fdca26"
             ],
             [
              1,
              "#f0f921"
             ]
            ],
            "type": "histogram2d"
           }
          ],
          "histogram2dcontour": [
           {
            "colorbar": {
             "outlinewidth": 0,
             "ticks": ""
            },
            "colorscale": [
             [
              0,
              "#0d0887"
             ],
             [
              0.1111111111111111,
              "#46039f"
             ],
             [
              0.2222222222222222,
              "#7201a8"
             ],
             [
              0.3333333333333333,
              "#9c179e"
             ],
             [
              0.4444444444444444,
              "#bd3786"
             ],
             [
              0.5555555555555556,
              "#d8576b"
             ],
             [
              0.6666666666666666,
              "#ed7953"
             ],
             [
              0.7777777777777778,
              "#fb9f3a"
             ],
             [
              0.8888888888888888,
              "#fdca26"
             ],
             [
              1,
              "#f0f921"
             ]
            ],
            "type": "histogram2dcontour"
           }
          ],
          "mesh3d": [
           {
            "colorbar": {
             "outlinewidth": 0,
             "ticks": ""
            },
            "type": "mesh3d"
           }
          ],
          "parcoords": [
           {
            "line": {
             "colorbar": {
              "outlinewidth": 0,
              "ticks": ""
             }
            },
            "type": "parcoords"
           }
          ],
          "pie": [
           {
            "automargin": true,
            "type": "pie"
           }
          ],
          "scatter": [
           {
            "marker": {
             "colorbar": {
              "outlinewidth": 0,
              "ticks": ""
             }
            },
            "type": "scatter"
           }
          ],
          "scatter3d": [
           {
            "line": {
             "colorbar": {
              "outlinewidth": 0,
              "ticks": ""
             }
            },
            "marker": {
             "colorbar": {
              "outlinewidth": 0,
              "ticks": ""
             }
            },
            "type": "scatter3d"
           }
          ],
          "scattercarpet": [
           {
            "marker": {
             "colorbar": {
              "outlinewidth": 0,
              "ticks": ""
             }
            },
            "type": "scattercarpet"
           }
          ],
          "scattergeo": [
           {
            "marker": {
             "colorbar": {
              "outlinewidth": 0,
              "ticks": ""
             }
            },
            "type": "scattergeo"
           }
          ],
          "scattergl": [
           {
            "marker": {
             "colorbar": {
              "outlinewidth": 0,
              "ticks": ""
             }
            },
            "type": "scattergl"
           }
          ],
          "scattermapbox": [
           {
            "marker": {
             "colorbar": {
              "outlinewidth": 0,
              "ticks": ""
             }
            },
            "type": "scattermapbox"
           }
          ],
          "scatterpolar": [
           {
            "marker": {
             "colorbar": {
              "outlinewidth": 0,
              "ticks": ""
             }
            },
            "type": "scatterpolar"
           }
          ],
          "scatterpolargl": [
           {
            "marker": {
             "colorbar": {
              "outlinewidth": 0,
              "ticks": ""
             }
            },
            "type": "scatterpolargl"
           }
          ],
          "scatterternary": [
           {
            "marker": {
             "colorbar": {
              "outlinewidth": 0,
              "ticks": ""
             }
            },
            "type": "scatterternary"
           }
          ],
          "surface": [
           {
            "colorbar": {
             "outlinewidth": 0,
             "ticks": ""
            },
            "colorscale": [
             [
              0,
              "#0d0887"
             ],
             [
              0.1111111111111111,
              "#46039f"
             ],
             [
              0.2222222222222222,
              "#7201a8"
             ],
             [
              0.3333333333333333,
              "#9c179e"
             ],
             [
              0.4444444444444444,
              "#bd3786"
             ],
             [
              0.5555555555555556,
              "#d8576b"
             ],
             [
              0.6666666666666666,
              "#ed7953"
             ],
             [
              0.7777777777777778,
              "#fb9f3a"
             ],
             [
              0.8888888888888888,
              "#fdca26"
             ],
             [
              1,
              "#f0f921"
             ]
            ],
            "type": "surface"
           }
          ],
          "table": [
           {
            "cells": {
             "fill": {
              "color": "#EBF0F8"
             },
             "line": {
              "color": "white"
             }
            },
            "header": {
             "fill": {
              "color": "#C8D4E3"
             },
             "line": {
              "color": "white"
             }
            },
            "type": "table"
           }
          ]
         },
         "layout": {
          "annotationdefaults": {
           "arrowcolor": "#2a3f5f",
           "arrowhead": 0,
           "arrowwidth": 1
          },
          "autotypenumbers": "strict",
          "coloraxis": {
           "colorbar": {
            "outlinewidth": 0,
            "ticks": ""
           }
          },
          "colorscale": {
           "diverging": [
            [
             0,
             "#8e0152"
            ],
            [
             0.1,
             "#c51b7d"
            ],
            [
             0.2,
             "#de77ae"
            ],
            [
             0.3,
             "#f1b6da"
            ],
            [
             0.4,
             "#fde0ef"
            ],
            [
             0.5,
             "#f7f7f7"
            ],
            [
             0.6,
             "#e6f5d0"
            ],
            [
             0.7,
             "#b8e186"
            ],
            [
             0.8,
             "#7fbc41"
            ],
            [
             0.9,
             "#4d9221"
            ],
            [
             1,
             "#276419"
            ]
           ],
           "sequential": [
            [
             0,
             "#0d0887"
            ],
            [
             0.1111111111111111,
             "#46039f"
            ],
            [
             0.2222222222222222,
             "#7201a8"
            ],
            [
             0.3333333333333333,
             "#9c179e"
            ],
            [
             0.4444444444444444,
             "#bd3786"
            ],
            [
             0.5555555555555556,
             "#d8576b"
            ],
            [
             0.6666666666666666,
             "#ed7953"
            ],
            [
             0.7777777777777778,
             "#fb9f3a"
            ],
            [
             0.8888888888888888,
             "#fdca26"
            ],
            [
             1,
             "#f0f921"
            ]
           ],
           "sequentialminus": [
            [
             0,
             "#0d0887"
            ],
            [
             0.1111111111111111,
             "#46039f"
            ],
            [
             0.2222222222222222,
             "#7201a8"
            ],
            [
             0.3333333333333333,
             "#9c179e"
            ],
            [
             0.4444444444444444,
             "#bd3786"
            ],
            [
             0.5555555555555556,
             "#d8576b"
            ],
            [
             0.6666666666666666,
             "#ed7953"
            ],
            [
             0.7777777777777778,
             "#fb9f3a"
            ],
            [
             0.8888888888888888,
             "#fdca26"
            ],
            [
             1,
             "#f0f921"
            ]
           ]
          },
          "colorway": [
           "#636efa",
           "#EF553B",
           "#00cc96",
           "#ab63fa",
           "#FFA15A",
           "#19d3f3",
           "#FF6692",
           "#B6E880",
           "#FF97FF",
           "#FECB52"
          ],
          "font": {
           "color": "#2a3f5f"
          },
          "geo": {
           "bgcolor": "white",
           "lakecolor": "white",
           "landcolor": "#E5ECF6",
           "showlakes": true,
           "showland": true,
           "subunitcolor": "white"
          },
          "hoverlabel": {
           "align": "left"
          },
          "hovermode": "closest",
          "mapbox": {
           "style": "light"
          },
          "paper_bgcolor": "white",
          "plot_bgcolor": "#E5ECF6",
          "polar": {
           "angularaxis": {
            "gridcolor": "white",
            "linecolor": "white",
            "ticks": ""
           },
           "bgcolor": "#E5ECF6",
           "radialaxis": {
            "gridcolor": "white",
            "linecolor": "white",
            "ticks": ""
           }
          },
          "scene": {
           "xaxis": {
            "backgroundcolor": "#E5ECF6",
            "gridcolor": "white",
            "gridwidth": 2,
            "linecolor": "white",
            "showbackground": true,
            "ticks": "",
            "zerolinecolor": "white"
           },
           "yaxis": {
            "backgroundcolor": "#E5ECF6",
            "gridcolor": "white",
            "gridwidth": 2,
            "linecolor": "white",
            "showbackground": true,
            "ticks": "",
            "zerolinecolor": "white"
           },
           "zaxis": {
            "backgroundcolor": "#E5ECF6",
            "gridcolor": "white",
            "gridwidth": 2,
            "linecolor": "white",
            "showbackground": true,
            "ticks": "",
            "zerolinecolor": "white"
           }
          },
          "shapedefaults": {
           "line": {
            "color": "#2a3f5f"
           }
          },
          "ternary": {
           "aaxis": {
            "gridcolor": "white",
            "linecolor": "white",
            "ticks": ""
           },
           "baxis": {
            "gridcolor": "white",
            "linecolor": "white",
            "ticks": ""
           },
           "bgcolor": "#E5ECF6",
           "caxis": {
            "gridcolor": "white",
            "linecolor": "white",
            "ticks": ""
           }
          },
          "title": {
           "x": 0.05
          },
          "xaxis": {
           "automargin": true,
           "gridcolor": "white",
           "linecolor": "white",
           "ticks": "",
           "title": {
            "standoff": 15
           },
           "zerolinecolor": "white",
           "zerolinewidth": 2
          },
          "yaxis": {
           "automargin": true,
           "gridcolor": "white",
           "linecolor": "white",
           "ticks": "",
           "title": {
            "standoff": 15
           },
           "zerolinecolor": "white",
           "zerolinewidth": 2
          }
         }
        }
       }
      }
     },
     "metadata": {},
     "output_type": "display_data"
    }
   ],
   "source": [
    "# HIDE CODE\n",
    "import plotly.graph_objects as go\n",
    "\n",
    "# define the structure\n",
    "levels = [\"Symbol\", \"Sector\", \"Category\"]\n",
    "value_column = \"Market Value\"\n",
    "custom_column = \"Gain/Loss\"\n",
    "\n",
    "# reform the dataframe\n",
    "df_all_trees = build_hierarchical_dataframe(portfolio, levels, value_column, custom_column=custom_column)\n",
    "\n",
    "# add additional information to the dataframe\n",
    "df_all_trees['value_dollar'] = df_all_trees['value'].apply(\n",
    "    lambda x: f\"$ {x:,.0f}\")\n",
    "df_all_trees['change'] = df_all_trees['custom'].apply(\n",
    "    lambda x: f\"$ {x:,.0f}\" if x != 0 else \"-\")\n",
    "df_all_trees['change_per'] = (df_all_trees['custom']/(\n",
    "    df_all_trees['value']-df_all_trees['custom'])).apply(\n",
    "        lambda x: f\"{x*100:.1f}%\" if x else '-').replace(\"nan\", \"-\")\n",
    "df_all_trees['change'] = df_all_trees['change'].replace(\"$ nan\", \"-\")\n",
    "df_all_trees['change_per'] = df_all_trees['change_per'].replace(\n",
    "    \"nan%\", \"-\")\n",
    "\n",
    "# make the plot\n",
    "fig = go.Figure(go.Treemap(\n",
    "    labels=df_all_trees['id'],\n",
    "    parents=df_all_trees['parent'],\n",
    "    values=df_all_trees['value'],\n",
    "    branchvalues='total',\n",
    "    textinfo='label+percent entry',\n",
    "    marker=dict(\n",
    "    colors=df_all_trees['change_per'].str.rstrip(\"%\").apply(\n",
    "        lambda x: float(x) if x != '-' else 0),\n",
    "    colorscale=[[0, 'red'], [0.5, 'white'], [1.0, 'green']],\n",
    "    cauto=False,\n",
    "    cmax=100,\n",
    "    cmin=-100,\n",
    "    cmid=0),\n",
    "    customdata=df_all_trees[['value_dollar', 'change',\n",
    "                             'change_per']],\n",
    "    # customize tooltip\n",
    "    hovertemplate=\"<b>%{label}</b><br><br>\"\n",
    "                + \"Market value: %{customdata[0]}<br>\"\n",
    "                + \"Change: %{customdata[1]} (%{customdata[2]})<br>\"\n",
    "                + \"<extra></extra>\"    \n",
    "\n",
    "))\n",
    "\n",
    "fig.update_traces(textfont_size=14)\n",
    "fig.update_layout(margin=dict(t=20, b=38, r=10, l=10))\n",
    "fig.show()\n"
   ]
  },
  {
   "cell_type": "markdown",
   "metadata": {},
   "source": [
    "## Conclusion\n",
    "\n",
    "Instead of using the default color palette (which I quite like), I used the `marker` argument to define a continuous colorscale (from green to white to red). This way without the tooltip we can already identify the best performers (the greenest rectangles) and the worst ones (the reddest). It's also easy to see which sector performs the best. One could also use other information stored in the \"Info\" column of the original portfolio dataframe to create different flavors of categorization (such as by market capitalization or by country of origin). I used the percentage change here to create the colorscale and set \"100\" (%) on both ends. This can be easily customized to change the linearity of the colorscale for different visualization purposes. Refer to the [official documentation of treemap](https://plotly.github.io/plotly.py-docs/generated/plotly.graph_objects.Treemap.html) for a full list of customization possibilities."
   ]
  }
 ],
 "metadata": {
  "kernelspec": {
   "display_name": "Python 3.8.6 64-bit ('web-venv')",
   "name": "python386jvsc74a57bd09a3edad073586e8ec22559a3aa839b23bfa1ea18200fd312e13581145a5ce671"
  },
  "language_info": {
   "codemirror_mode": {
    "name": "ipython",
    "version": 3
   },
   "file_extension": ".py",
   "mimetype": "text/x-python",
   "name": "python",
   "nbconvert_exporter": "python",
   "pygments_lexer": "ipython3",
   "version": "3.8.6"
  },
  "widgets": {
   "application/vnd.jupyter.widget-state+json": {
    "state": {},
    "version_major": 2,
    "version_minor": 0
   }
  }
 },
 "nbformat": 4,
 "nbformat_minor": 4
}
