{
 "cells": [
  {
   "cell_type": "markdown",
   "metadata": {},
   "source": [
    "# Net Worth\n",
    "\n",
    "The main idea here is that, instead of visualizing with a regular pie chart, an interactive sunburst chart with extra tooltips (hover texts) would make inspecting different equity positions more intuitive and fun.\n",
    "\n",
    "## Create a randomized portfolio\n",
    "\n",
    "To demonstrate this, I randomly selected 30 tickers from SP500 (a full list is available at [DataHub](https://datahub.io/core/s-and-p-500-companies)) and added 2 ETFs to the list:\n"
   ]
  },
  {
   "cell_type": "code",
   "execution_count": 1,
   "metadata": {},
   "outputs": [
    {
     "data": {
      "text/html": [
       "<div>\n",
       "<style scoped>\n",
       "    .dataframe tbody tr th:only-of-type {\n",
       "        vertical-align: middle;\n",
       "    }\n",
       "\n",
       "    .dataframe tbody tr th {\n",
       "        vertical-align: top;\n",
       "    }\n",
       "\n",
       "    .dataframe thead th {\n",
       "        text-align: right;\n",
       "    }\n",
       "</style>\n",
       "<table border=\"1\" class=\"dataframe\">\n",
       "  <thead>\n",
       "    <tr style=\"text-align: right;\">\n",
       "      <th></th>\n",
       "      <th>Symbol</th>\n",
       "      <th>Name</th>\n",
       "      <th>Sector</th>\n",
       "    </tr>\n",
       "    <tr>\n",
       "      <th>Category</th>\n",
       "      <th></th>\n",
       "      <th></th>\n",
       "      <th></th>\n",
       "    </tr>\n",
       "  </thead>\n",
       "  <tbody>\n",
       "    <tr>\n",
       "      <th>Stock</th>\n",
       "      <td>DXC</td>\n",
       "      <td>DXC Technology</td>\n",
       "      <td>Information Technology</td>\n",
       "    </tr>\n",
       "    <tr>\n",
       "      <th>Stock</th>\n",
       "      <td>UAL</td>\n",
       "      <td>United Airlines Holdings</td>\n",
       "      <td>Industrials</td>\n",
       "    </tr>\n",
       "    <tr>\n",
       "      <th>Stock</th>\n",
       "      <td>LHX</td>\n",
       "      <td>L3Harris Technologies</td>\n",
       "      <td>Industrials</td>\n",
       "    </tr>\n",
       "    <tr>\n",
       "      <th>Stock</th>\n",
       "      <td>LNC</td>\n",
       "      <td>Lincoln National</td>\n",
       "      <td>Financials</td>\n",
       "    </tr>\n",
       "    <tr>\n",
       "      <th>Stock</th>\n",
       "      <td>MTB</td>\n",
       "      <td>M&amp;T Bank Corp.</td>\n",
       "      <td>Financials</td>\n",
       "    </tr>\n",
       "    <tr>\n",
       "      <th>Stock</th>\n",
       "      <td>DLR</td>\n",
       "      <td>Digital Realty Trust Inc</td>\n",
       "      <td>Real Estate</td>\n",
       "    </tr>\n",
       "    <tr>\n",
       "      <th>Stock</th>\n",
       "      <td>KR</td>\n",
       "      <td>Kroger Co.</td>\n",
       "      <td>Consumer Staples</td>\n",
       "    </tr>\n",
       "    <tr>\n",
       "      <th>Stock</th>\n",
       "      <td>EBAY</td>\n",
       "      <td>eBay Inc.</td>\n",
       "      <td>Consumer Discretionary</td>\n",
       "    </tr>\n",
       "    <tr>\n",
       "      <th>Stock</th>\n",
       "      <td>PH</td>\n",
       "      <td>Parker-Hannifin</td>\n",
       "      <td>Industrials</td>\n",
       "    </tr>\n",
       "    <tr>\n",
       "      <th>Stock</th>\n",
       "      <td>WRK</td>\n",
       "      <td>WestRock</td>\n",
       "      <td>Materials</td>\n",
       "    </tr>\n",
       "    <tr>\n",
       "      <th>Stock</th>\n",
       "      <td>FE</td>\n",
       "      <td>FirstEnergy Corp</td>\n",
       "      <td>Utilities</td>\n",
       "    </tr>\n",
       "    <tr>\n",
       "      <th>Stock</th>\n",
       "      <td>AON</td>\n",
       "      <td>Aon plc</td>\n",
       "      <td>Financials</td>\n",
       "    </tr>\n",
       "    <tr>\n",
       "      <th>Stock</th>\n",
       "      <td>LRCX</td>\n",
       "      <td>Lam Research</td>\n",
       "      <td>Information Technology</td>\n",
       "    </tr>\n",
       "    <tr>\n",
       "      <th>Stock</th>\n",
       "      <td>CPRT</td>\n",
       "      <td>Copart Inc</td>\n",
       "      <td>Industrials</td>\n",
       "    </tr>\n",
       "    <tr>\n",
       "      <th>Stock</th>\n",
       "      <td>NKE</td>\n",
       "      <td>Nike Inc.</td>\n",
       "      <td>Consumer Discretionary</td>\n",
       "    </tr>\n",
       "    <tr>\n",
       "      <th>Stock</th>\n",
       "      <td>ROL</td>\n",
       "      <td>Rollins Inc.</td>\n",
       "      <td>Industrials</td>\n",
       "    </tr>\n",
       "    <tr>\n",
       "      <th>Stock</th>\n",
       "      <td>ABBV</td>\n",
       "      <td>AbbVie Inc.</td>\n",
       "      <td>Health Care</td>\n",
       "    </tr>\n",
       "    <tr>\n",
       "      <th>Stock</th>\n",
       "      <td>WYNN</td>\n",
       "      <td>Wynn Resorts Ltd</td>\n",
       "      <td>Consumer Discretionary</td>\n",
       "    </tr>\n",
       "    <tr>\n",
       "      <th>Stock</th>\n",
       "      <td>JNPR</td>\n",
       "      <td>Juniper Networks</td>\n",
       "      <td>Information Technology</td>\n",
       "    </tr>\n",
       "    <tr>\n",
       "      <th>Stock</th>\n",
       "      <td>MMM</td>\n",
       "      <td>3M Company</td>\n",
       "      <td>Industrials</td>\n",
       "    </tr>\n",
       "    <tr>\n",
       "      <th>Stock</th>\n",
       "      <td>LVS</td>\n",
       "      <td>Las Vegas Sands</td>\n",
       "      <td>Consumer Discretionary</td>\n",
       "    </tr>\n",
       "    <tr>\n",
       "      <th>Stock</th>\n",
       "      <td>IBM</td>\n",
       "      <td>International Business Machines</td>\n",
       "      <td>Information Technology</td>\n",
       "    </tr>\n",
       "    <tr>\n",
       "      <th>Stock</th>\n",
       "      <td>GRMN</td>\n",
       "      <td>Garmin Ltd.</td>\n",
       "      <td>Consumer Discretionary</td>\n",
       "    </tr>\n",
       "    <tr>\n",
       "      <th>Stock</th>\n",
       "      <td>BRK.B</td>\n",
       "      <td>Berkshire Hathaway</td>\n",
       "      <td>Financials</td>\n",
       "    </tr>\n",
       "    <tr>\n",
       "      <th>Stock</th>\n",
       "      <td>BDX</td>\n",
       "      <td>Becton Dickinson</td>\n",
       "      <td>Health Care</td>\n",
       "    </tr>\n",
       "    <tr>\n",
       "      <th>Stock</th>\n",
       "      <td>TJX</td>\n",
       "      <td>TJX Companies Inc.</td>\n",
       "      <td>Consumer Discretionary</td>\n",
       "    </tr>\n",
       "    <tr>\n",
       "      <th>Stock</th>\n",
       "      <td>KMB</td>\n",
       "      <td>Kimberly-Clark</td>\n",
       "      <td>Consumer Staples</td>\n",
       "    </tr>\n",
       "    <tr>\n",
       "      <th>Stock</th>\n",
       "      <td>HPQ</td>\n",
       "      <td>HP Inc.</td>\n",
       "      <td>Information Technology</td>\n",
       "    </tr>\n",
       "    <tr>\n",
       "      <th>Stock</th>\n",
       "      <td>MPC</td>\n",
       "      <td>Marathon Petroleum</td>\n",
       "      <td>Energy</td>\n",
       "    </tr>\n",
       "    <tr>\n",
       "      <th>Stock</th>\n",
       "      <td>SLB</td>\n",
       "      <td>Schlumberger Ltd.</td>\n",
       "      <td>Energy</td>\n",
       "    </tr>\n",
       "    <tr>\n",
       "      <th>ETF</th>\n",
       "      <td>VTI</td>\n",
       "      <td>Vanguard Total Stock Market</td>\n",
       "      <td>Index</td>\n",
       "    </tr>\n",
       "    <tr>\n",
       "      <th>ETF</th>\n",
       "      <td>BND</td>\n",
       "      <td>Vanguard Total Bond Market</td>\n",
       "      <td>Bond</td>\n",
       "    </tr>\n",
       "  </tbody>\n",
       "</table>\n",
       "</div>"
      ],
      "text/plain": [
       "         Symbol                             Name                  Sector\n",
       "Category                                                                \n",
       "Stock       DXC                   DXC Technology  Information Technology\n",
       "Stock       UAL         United Airlines Holdings             Industrials\n",
       "Stock       LHX            L3Harris Technologies             Industrials\n",
       "Stock       LNC                 Lincoln National              Financials\n",
       "Stock       MTB                   M&T Bank Corp.              Financials\n",
       "Stock       DLR         Digital Realty Trust Inc             Real Estate\n",
       "Stock        KR                       Kroger Co.        Consumer Staples\n",
       "Stock      EBAY                        eBay Inc.  Consumer Discretionary\n",
       "Stock        PH                  Parker-Hannifin             Industrials\n",
       "Stock       WRK                         WestRock               Materials\n",
       "Stock        FE                 FirstEnergy Corp               Utilities\n",
       "Stock       AON                          Aon plc              Financials\n",
       "Stock      LRCX                     Lam Research  Information Technology\n",
       "Stock      CPRT                       Copart Inc             Industrials\n",
       "Stock       NKE                        Nike Inc.  Consumer Discretionary\n",
       "Stock       ROL                     Rollins Inc.             Industrials\n",
       "Stock      ABBV                      AbbVie Inc.             Health Care\n",
       "Stock      WYNN                 Wynn Resorts Ltd  Consumer Discretionary\n",
       "Stock      JNPR                 Juniper Networks  Information Technology\n",
       "Stock       MMM                       3M Company             Industrials\n",
       "Stock       LVS                  Las Vegas Sands  Consumer Discretionary\n",
       "Stock       IBM  International Business Machines  Information Technology\n",
       "Stock      GRMN                      Garmin Ltd.  Consumer Discretionary\n",
       "Stock     BRK.B               Berkshire Hathaway              Financials\n",
       "Stock       BDX                 Becton Dickinson             Health Care\n",
       "Stock       TJX               TJX Companies Inc.  Consumer Discretionary\n",
       "Stock       KMB                   Kimberly-Clark        Consumer Staples\n",
       "Stock       HPQ                          HP Inc.  Information Technology\n",
       "Stock       MPC               Marathon Petroleum                  Energy\n",
       "Stock       SLB                Schlumberger Ltd.                  Energy\n",
       "ETF         VTI      Vanguard Total Stock Market                   Index\n",
       "ETF         BND       Vanguard Total Bond Market                    Bond"
      ]
     },
     "execution_count": 1,
     "metadata": {},
     "output_type": "execute_result"
    }
   ],
   "source": [
    "import pandas as pd\n",
    "\n",
    "symbols_list = pd.read_csv(\"../src/data/random_samples_sp500.csv\")\n",
    "symbols_list.set_index(\"Category\")"
   ]
  },
  {
   "cell_type": "markdown",
   "metadata": {},
   "source": [
    "Now we can add some fictional positions based on these ticker symbols using the module `yfinance`:\n",
    "\n",
    "```python\n",
    "import time\n",
    "import yfinance as yf\n",
    "\n",
    "def get_stock_info(symbol):\n",
    "    time.sleep(3)\n",
    "    stock = yf.Ticker(symbol.replace(\".\", \"-\"))\n",
    "    print(f\"\\rLooking {symbol:s}...\", end=\"\")\n",
    "    return stock.info\n",
    "\n",
    "portfolio = symbols_list.copy()\n",
    "portfolio[\"Info\"] = portfolio[\"Symbol\"].apply(lambda x: get_stock_info(x))\n",
    "```\n",
    "\n",
    "Since this process may take a while to run, I will continue by directly loading the result stored in a dataframe. You could check out the dictionaries stored under the \"Info\" column for each ticker but we will only use three of them to create a mock investment portfolio: \"previousClose\", \"fiftyTwoWeekLow\" and \"fiftyTwoWeekHigh\"."
   ]
  },
  {
   "cell_type": "code",
   "execution_count": 2,
   "metadata": {},
   "outputs": [],
   "source": [
    "import random\n",
    "\n",
    "# set the seed to make the result reproducible\n",
    "random.seed(110)\n",
    "\n",
    "portfolio = pd.read_pickle(\"../src/data/portfolio.pkl\")\n",
    "\n",
    "# assign a random number of shares to each symbol\n",
    "portfolio[\"Quantity\"] = portfolio[\"Symbol\"].apply(lambda x: random.randint(2, 10))\n",
    "\n",
    "# assign market value based on previousClose\n",
    "portfolio[\"Market Value\"] = portfolio[\"Info\"].apply(lambda x: x[\"previousClose\"])*portfolio[\"Quantity\"]\n",
    "\n",
    "# assign cost basis based on random price between 52 low and high\n",
    "portfolio[\"Cost Basis\"] = portfolio[\"Info\"].apply(lambda x: random.uniform(x[\"fiftyTwoWeekLow\"], x[\"fiftyTwoWeekHigh\"]))*portfolio[\"Quantity\"]\n",
    "\n",
    "# calculate the gain/loss\n",
    "portfolio[\"Gain/Loss\"] = portfolio[\"Market Value\"] - portfolio[\"Cost Basis\"]"
   ]
  },
  {
   "cell_type": "markdown",
   "metadata": {},
   "source": [
    "Now we can drop the \"Info\" column and check how the table looks like:"
   ]
  },
  {
   "cell_type": "code",
   "execution_count": 3,
   "metadata": {},
   "outputs": [
    {
     "data": {
      "text/html": [
       "<div>\n",
       "<style scoped>\n",
       "    .dataframe tbody tr th:only-of-type {\n",
       "        vertical-align: middle;\n",
       "    }\n",
       "\n",
       "    .dataframe tbody tr th {\n",
       "        vertical-align: top;\n",
       "    }\n",
       "\n",
       "    .dataframe thead th {\n",
       "        text-align: right;\n",
       "    }\n",
       "</style>\n",
       "<table border=\"1\" class=\"dataframe\">\n",
       "  <thead>\n",
       "    <tr style=\"text-align: right;\">\n",
       "      <th></th>\n",
       "      <th>Symbol</th>\n",
       "      <th>Name</th>\n",
       "      <th>Sector</th>\n",
       "      <th>Category</th>\n",
       "      <th>Quantity</th>\n",
       "      <th>Market Value</th>\n",
       "      <th>Cost Basis</th>\n",
       "      <th>Gain/Loss</th>\n",
       "    </tr>\n",
       "  </thead>\n",
       "  <tbody>\n",
       "    <tr>\n",
       "      <th>0</th>\n",
       "      <td>DXC</td>\n",
       "      <td>DXC Technology</td>\n",
       "      <td>Information Technology</td>\n",
       "      <td>Stock</td>\n",
       "      <td>8</td>\n",
       "      <td>236.80</td>\n",
       "      <td>108.395839</td>\n",
       "      <td>128.404161</td>\n",
       "    </tr>\n",
       "    <tr>\n",
       "      <th>1</th>\n",
       "      <td>UAL</td>\n",
       "      <td>United Airlines Holdings</td>\n",
       "      <td>Industrials</td>\n",
       "      <td>Stock</td>\n",
       "      <td>5</td>\n",
       "      <td>216.45</td>\n",
       "      <td>237.477996</td>\n",
       "      <td>-21.027996</td>\n",
       "    </tr>\n",
       "    <tr>\n",
       "      <th>2</th>\n",
       "      <td>LHX</td>\n",
       "      <td>L3Harris Technologies</td>\n",
       "      <td>Industrials</td>\n",
       "      <td>Stock</td>\n",
       "      <td>8</td>\n",
       "      <td>1445.60</td>\n",
       "      <td>1298.143234</td>\n",
       "      <td>147.456766</td>\n",
       "    </tr>\n",
       "    <tr>\n",
       "      <th>3</th>\n",
       "      <td>LNC</td>\n",
       "      <td>Lincoln National</td>\n",
       "      <td>Financials</td>\n",
       "      <td>Stock</td>\n",
       "      <td>9</td>\n",
       "      <td>462.69</td>\n",
       "      <td>331.289426</td>\n",
       "      <td>131.400574</td>\n",
       "    </tr>\n",
       "    <tr>\n",
       "      <th>4</th>\n",
       "      <td>MTB</td>\n",
       "      <td>M&amp;T Bank Corp.</td>\n",
       "      <td>Financials</td>\n",
       "      <td>Stock</td>\n",
       "      <td>6</td>\n",
       "      <td>865.44</td>\n",
       "      <td>966.269290</td>\n",
       "      <td>-100.829290</td>\n",
       "    </tr>\n",
       "  </tbody>\n",
       "</table>\n",
       "</div>"
      ],
      "text/plain": [
       "  Symbol                      Name                  Sector Category  Quantity  \\\n",
       "0    DXC            DXC Technology  Information Technology    Stock         8   \n",
       "1    UAL  United Airlines Holdings             Industrials    Stock         5   \n",
       "2    LHX     L3Harris Technologies             Industrials    Stock         8   \n",
       "3    LNC          Lincoln National              Financials    Stock         9   \n",
       "4    MTB            M&T Bank Corp.              Financials    Stock         6   \n",
       "\n",
       "   Market Value   Cost Basis   Gain/Loss  \n",
       "0        236.80   108.395839  128.404161  \n",
       "1        216.45   237.477996  -21.027996  \n",
       "2       1445.60  1298.143234  147.456766  \n",
       "3        462.69   331.289426  131.400574  \n",
       "4        865.44   966.269290 -100.829290  "
      ]
     },
     "execution_count": 3,
     "metadata": {},
     "output_type": "execute_result"
    }
   ],
   "source": [
    "portfolio.drop(columns=\"Info\", inplace=True)\n",
    "portfolio.head()"
   ]
  },
  {
   "cell_type": "markdown",
   "metadata": {},
   "source": [
    "Looks good. Let's we can add some reserve cash to the portfolio as well:"
   ]
  },
  {
   "cell_type": "code",
   "execution_count": 4,
   "metadata": {},
   "outputs": [
    {
     "data": {
      "text/html": [
       "<div>\n",
       "<style scoped>\n",
       "    .dataframe tbody tr th:only-of-type {\n",
       "        vertical-align: middle;\n",
       "    }\n",
       "\n",
       "    .dataframe tbody tr th {\n",
       "        vertical-align: top;\n",
       "    }\n",
       "\n",
       "    .dataframe thead th {\n",
       "        text-align: right;\n",
       "    }\n",
       "</style>\n",
       "<table border=\"1\" class=\"dataframe\">\n",
       "  <thead>\n",
       "    <tr style=\"text-align: right;\">\n",
       "      <th></th>\n",
       "      <th>Symbol</th>\n",
       "      <th>Name</th>\n",
       "      <th>Sector</th>\n",
       "      <th>Category</th>\n",
       "      <th>Quantity</th>\n",
       "      <th>Market Value</th>\n",
       "      <th>Cost Basis</th>\n",
       "      <th>Gain/Loss</th>\n",
       "    </tr>\n",
       "  </thead>\n",
       "  <tbody>\n",
       "    <tr>\n",
       "      <th>29</th>\n",
       "      <td>SLB</td>\n",
       "      <td>Schlumberger Ltd.</td>\n",
       "      <td>Energy</td>\n",
       "      <td>Stock</td>\n",
       "      <td>9</td>\n",
       "      <td>223.56</td>\n",
       "      <td>231.512143</td>\n",
       "      <td>-7.952143</td>\n",
       "    </tr>\n",
       "    <tr>\n",
       "      <th>30</th>\n",
       "      <td>VTI</td>\n",
       "      <td>Vanguard Total Stock Market</td>\n",
       "      <td>Index</td>\n",
       "      <td>ETF</td>\n",
       "      <td>6</td>\n",
       "      <td>1195.50</td>\n",
       "      <td>748.183640</td>\n",
       "      <td>447.316360</td>\n",
       "    </tr>\n",
       "    <tr>\n",
       "      <th>31</th>\n",
       "      <td>BND</td>\n",
       "      <td>Vanguard Total Bond Market</td>\n",
       "      <td>Bond</td>\n",
       "      <td>ETF</td>\n",
       "      <td>4</td>\n",
       "      <td>349.08</td>\n",
       "      <td>356.440459</td>\n",
       "      <td>-7.360459</td>\n",
       "    </tr>\n",
       "    <tr>\n",
       "      <th>0</th>\n",
       "      <td></td>\n",
       "      <td></td>\n",
       "      <td>Debit</td>\n",
       "      <td>Cash</td>\n",
       "      <td>0</td>\n",
       "      <td>2000.00</td>\n",
       "      <td>0.000000</td>\n",
       "      <td>0.000000</td>\n",
       "    </tr>\n",
       "    <tr>\n",
       "      <th>0</th>\n",
       "      <td></td>\n",
       "      <td></td>\n",
       "      <td>Savings</td>\n",
       "      <td>Cash</td>\n",
       "      <td>0</td>\n",
       "      <td>1000.00</td>\n",
       "      <td>0.000000</td>\n",
       "      <td>0.000000</td>\n",
       "    </tr>\n",
       "  </tbody>\n",
       "</table>\n",
       "</div>"
      ],
      "text/plain": [
       "   Symbol                         Name   Sector Category  Quantity  \\\n",
       "29    SLB            Schlumberger Ltd.   Energy    Stock         9   \n",
       "30    VTI  Vanguard Total Stock Market    Index      ETF         6   \n",
       "31    BND   Vanguard Total Bond Market     Bond      ETF         4   \n",
       "0                                         Debit     Cash         0   \n",
       "0                                       Savings     Cash         0   \n",
       "\n",
       "    Market Value  Cost Basis   Gain/Loss  \n",
       "29        223.56  231.512143   -7.952143  \n",
       "30       1195.50  748.183640  447.316360  \n",
       "31        349.08  356.440459   -7.360459  \n",
       "0        2000.00    0.000000    0.000000  \n",
       "0        1000.00    0.000000    0.000000  "
      ]
     },
     "execution_count": 4,
     "metadata": {},
     "output_type": "execute_result"
    }
   ],
   "source": [
    "debit_pos = pd.DataFrame([[\"\", \"\", \"Debit\", \"Cash\", 0, 2000.00, 0, 0]], columns=portfolio.columns)\n",
    "sav_pos = pd.DataFrame([[\"\", \"\", \"Savings\", \"Cash\", 0, 1000.00, 0, 0]], columns=portfolio.columns)\n",
    "portfolio = pd.concat([portfolio, debit_pos, sav_pos])\n",
    "\n",
    "portfolio.iloc[-5:, :]"
   ]
  },
  {
   "cell_type": "markdown",
   "metadata": {},
   "source": [
    "## Create the sunburst chart\n",
    "\n",
    "Now that's done, we can finally start making the chart. In order to make a sunburst plot with `plotly`, we need to construct a hierarchical dataframe. An example can be found [here](https://plotly.com/python/sunburst-charts/). I adapted the sample function from the official site a bit to our needs here (click on \"+\" to reveal the code)."
   ]
  },
  {
   "cell_type": "code",
   "execution_count": 5,
   "metadata": {
    "tags": [
     "hide-input"
    ]
   },
   "outputs": [],
   "source": [
    "# HIDE CODE\n",
    "def build_hierarchical_dataframe(df, levels, value_column,\n",
    "                                 custom_column=None, cal_tot=True):\n",
    "    \"\"\"Build a hierarchy of levels for Sunburst and Treemap charts.\n",
    "    \"\"\"\n",
    "    df_all_trees = pd.DataFrame(columns=['id', 'parent', 'value', 'custom'])\n",
    "    for i, level in enumerate(levels):\n",
    "        df_tree = pd.DataFrame(columns=['id', 'parent', 'value', 'custom'])\n",
    "        dfg = df.groupby(levels[i:]).sum()\n",
    "        dfg = dfg.reset_index()\n",
    "        df_tree['id'] = dfg[level].copy()\n",
    "        if i < len(levels) - 1:\n",
    "            df_tree['parent'] = dfg[levels[i+1]].copy()\n",
    "        else:\n",
    "            if cal_tot:\n",
    "                df_tree['parent'] = 'Total'\n",
    "        df_tree['value'] = dfg[value_column]\n",
    "        if custom_column:\n",
    "            df_tree['custom'] = dfg[custom_column]\n",
    "        df_all_trees = df_all_trees.append(df_tree, ignore_index=True)\n",
    "    if cal_tot:\n",
    "        total = pd.Series(dict(id='Total', parent='',\n",
    "                                  value=df[value_column].sum()))\n",
    "        df_all_trees = df_all_trees.append(total, ignore_index=True)\n",
    "\n",
    "    return df_all_trees"
   ]
  },
  {
   "cell_type": "markdown",
   "metadata": {},
   "source": [
    "So now we are ready to visualize the portfolio in an interactive sunburst plot. Try click on different wedges to interact with them."
   ]
  },
  {
   "cell_type": "code",
   "execution_count": 6,
   "metadata": {
    "tags": [
     "hide-input"
    ]
   },
   "outputs": [
    {
     "data": {
      "application/vnd.plotly.v1+json": {
       "config": {
        "plotlyServerURL": "https://plot.ly"
       },
       "data": [
        {
         "branchvalues": "total",
         "customdata": [
          [
           "$ 2,000",
           "-",
           "-",
           ""
          ],
          [
           "$ 1,000",
           "-",
           "-",
           ""
          ],
          [
           "$ 965",
           "$ 317",
           "48.9%",
           "AbbVie Inc."
          ],
          [
           "$ 410",
           "$ -45",
           "-9.9%",
           "Aon plc"
          ],
          [
           "$ 1,785",
           "$ 135",
           "8.2%",
           "Becton Dickinson"
          ],
          [
           "$ 349",
           "$ -7",
           "-2.1%",
           "Vanguard Total Bond Market"
          ],
          [
           "$ 1,638",
           "$ 24",
           "1.5%",
           "Berkshire Hathaway"
          ],
          [
           "$ 1,222",
           "$ 464",
           "61.1%",
           "Copart Inc"
          ],
          [
           "$ 1,336",
           "$ -13",
           "-1.0%",
           "Digital Realty Trust Inc"
          ],
          [
           "$ 237",
           "$ 128",
           "118.5%",
           "DXC Technology"
          ],
          [
           "$ 545",
           "$ 227",
           "71.4%",
           "eBay Inc."
          ],
          [
           "$ 209",
           "$ -148",
           "-41.5%",
           "FirstEnergy Corp"
          ],
          [
           "$ 732",
           "$ 349",
           "91.1%",
           "Garmin Ltd."
          ],
          [
           "$ 204",
           "$ 94",
           "85.6%",
           "HP Inc."
          ],
          [
           "$ 771",
           "$ 22",
           "3.0%",
           "International Business Machines"
          ],
          [
           "$ 238",
           "$ 35",
           "17.3%",
           "Juniper Networks"
          ],
          [
           "$ 395",
           "$ 15",
           "4.0%",
           "Kimberly-Clark"
          ],
          [
           "$ 95",
           "$ 4",
           "4.8%",
           "Kroger Co."
          ],
          [
           "$ 1,446",
           "$ 147",
           "11.4%",
           "L3Harris Technologies"
          ],
          [
           "$ 463",
           "$ 131",
           "39.7%",
           "Lincoln National"
          ],
          [
           "$ 1,505",
           "$ 957",
           "174.6%",
           "Lam Research"
          ],
          [
           "$ 290",
           "$ 18",
           "6.5%",
           "Las Vegas Sands"
          ],
          [
           "$ 1,333",
           "$ 75",
           "5.9%",
           "3M Company"
          ],
          [
           "$ 432",
           "$ -169",
           "-28.1%",
           "Marathon Petroleum"
          ],
          [
           "$ 865",
           "$ -101",
           "-10.4%",
           "M&T Bank Corp."
          ],
          [
           "$ 439",
           "$ 222",
           "102.2%",
           "Nike Inc."
          ],
          [
           "$ 2,245",
           "$ 1,284",
           "133.7%",
           "Parker-Hannifin"
          ],
          [
           "$ 163",
           "$ 40",
           "32.0%",
           "Rollins Inc."
          ],
          [
           "$ 224",
           "$ -8",
           "-3.4%",
           "Schlumberger Ltd."
          ],
          [
           "$ 702",
           "$ 42",
           "6.4%",
           "TJX Companies Inc."
          ],
          [
           "$ 216",
           "$ -21",
           "-8.9%",
           "United Airlines Holdings"
          ],
          [
           "$ 1,196",
           "$ 447",
           "59.8%",
           "Vanguard Total Stock Market"
          ],
          [
           "$ 452",
           "$ 28",
           "6.6%",
           "WestRock"
          ],
          [
           "$ 218",
           "$ 32",
           "17.1%",
           "Wynn Resorts Ltd"
          ],
          [
           "$ 349",
           "$ -7",
           "-2.1%",
           ""
          ],
          [
           "$ 2,926",
           "$ 889",
           "43.7%",
           ""
          ],
          [
           "$ 490",
           "$ 20",
           "4.2%",
           ""
          ],
          [
           "$ 2,000",
           "-",
           "-",
           ""
          ],
          [
           "$ 655",
           "$ -177",
           "-21.3%",
           ""
          ],
          [
           "$ 3,377",
           "$ 9",
           "0.3%",
           ""
          ],
          [
           "$ 2,751",
           "$ 452",
           "19.7%",
           ""
          ],
          [
           "$ 1,196",
           "$ 447",
           "59.8%",
           ""
          ],
          [
           "$ 6,625",
           "$ 1,988",
           "42.9%",
           ""
          ],
          [
           "$ 2,955",
           "$ 1,237",
           "72.0%",
           ""
          ],
          [
           "$ 452",
           "$ 28",
           "6.6%",
           ""
          ],
          [
           "$ 1,336",
           "$ -13",
           "-1.0%",
           ""
          ],
          [
           "$ 1,000",
           "-",
           "-",
           ""
          ],
          [
           "$ 209",
           "$ -148",
           "-41.5%",
           ""
          ],
          [
           "$ 3,000",
           "-",
           "-",
           ""
          ],
          [
           "$ 1,545",
           "$ 440",
           "39.8%",
           []
          ],
          [
           "$ 21,777",
           "$ 4,285",
           "24.5%",
           ""
          ],
          [
           "$ 26,321",
           "-",
           "-",
           ""
          ]
         ],
         "hovertemplate": "<b>%{label}</b><br><br>Market value: %{customdata[0]}<br>Change: %{customdata[1]} (%{customdata[2]})<br><extra>%{customdata[3]}</extra>",
         "labels": [
          "",
          "",
          "ABBV",
          "AON",
          "BDX",
          "BND",
          "BRK.B",
          "CPRT",
          "DLR",
          "DXC",
          "EBAY",
          "FE",
          "GRMN",
          "HPQ",
          "IBM",
          "JNPR",
          "KMB",
          "KR",
          "LHX",
          "LNC",
          "LRCX",
          "LVS",
          "MMM",
          "MPC",
          "MTB",
          "NKE",
          "PH",
          "ROL",
          "SLB",
          "TJX",
          "UAL",
          "VTI",
          "WRK",
          "WYNN",
          "Bond",
          "Consumer Discretionary",
          "Consumer Staples",
          "Debit",
          "Energy",
          "Financials",
          "Health Care",
          "Index",
          "Industrials",
          "Information Technology",
          "Materials",
          "Real Estate",
          "Savings",
          "Utilities",
          "Cash",
          "ETF",
          "Stock",
          "Total"
         ],
         "maxdepth": 4,
         "parents": [
          "Debit",
          "Savings",
          "Health Care",
          "Financials",
          "Health Care",
          "Bond",
          "Financials",
          "Industrials",
          "Real Estate",
          "Information Technology",
          "Consumer Discretionary",
          "Utilities",
          "Consumer Discretionary",
          "Information Technology",
          "Information Technology",
          "Information Technology",
          "Consumer Staples",
          "Consumer Staples",
          "Industrials",
          "Financials",
          "Information Technology",
          "Consumer Discretionary",
          "Industrials",
          "Energy",
          "Financials",
          "Consumer Discretionary",
          "Industrials",
          "Industrials",
          "Energy",
          "Consumer Discretionary",
          "Industrials",
          "Index",
          "Materials",
          "Consumer Discretionary",
          "ETF",
          "Stock",
          "Stock",
          "Cash",
          "Stock",
          "Stock",
          "Stock",
          "ETF",
          "Stock",
          "Stock",
          "Stock",
          "Stock",
          "Cash",
          "Stock",
          "Total",
          "Total",
          "Total",
          ""
         ],
         "textfont": {
          "size": 14
         },
         "textinfo": "label+percent entry",
         "type": "sunburst",
         "values": [
          2000,
          1000,
          965.43,
          410.44,
          1785.42,
          349.08,
          1638.21,
          1221.8000000000002,
          1336,
          236.8,
          544.8,
          209.37,
          731.88,
          204.24,
          771.1800000000001,
          238,
          395.28,
          94.89,
          1445.6,
          462.68999999999994,
          1504.8899999999999,
          289.6,
          1332.96,
          431.8,
          865.44,
          439.04999999999995,
          2245.28,
          163.2,
          223.56,
          702.2,
          216.45,
          1195.5,
          452.29999999999995,
          218.06,
          349.08,
          2925.59,
          490.16999999999996,
          2000,
          655.36,
          3376.78,
          2750.85,
          1195.5,
          6625.29,
          2955.1099999999997,
          452.29999999999995,
          1336,
          1000,
          209.37,
          3000,
          1544.58,
          21776.82,
          26321.4
         ]
        }
       ],
       "layout": {
        "margin": {
         "b": 35,
         "l": 10,
         "r": 10,
         "t": 10
        },
        "template": {
         "data": {
          "bar": [
           {
            "error_x": {
             "color": "#2a3f5f"
            },
            "error_y": {
             "color": "#2a3f5f"
            },
            "marker": {
             "line": {
              "color": "#E5ECF6",
              "width": 0.5
             }
            },
            "type": "bar"
           }
          ],
          "barpolar": [
           {
            "marker": {
             "line": {
              "color": "#E5ECF6",
              "width": 0.5
             }
            },
            "type": "barpolar"
           }
          ],
          "carpet": [
           {
            "aaxis": {
             "endlinecolor": "#2a3f5f",
             "gridcolor": "white",
             "linecolor": "white",
             "minorgridcolor": "white",
             "startlinecolor": "#2a3f5f"
            },
            "baxis": {
             "endlinecolor": "#2a3f5f",
             "gridcolor": "white",
             "linecolor": "white",
             "minorgridcolor": "white",
             "startlinecolor": "#2a3f5f"
            },
            "type": "carpet"
           }
          ],
          "choropleth": [
           {
            "colorbar": {
             "outlinewidth": 0,
             "ticks": ""
            },
            "type": "choropleth"
           }
          ],
          "contour": [
           {
            "colorbar": {
             "outlinewidth": 0,
             "ticks": ""
            },
            "colorscale": [
             [
              0,
              "#0d0887"
             ],
             [
              0.1111111111111111,
              "#46039f"
             ],
             [
              0.2222222222222222,
              "#7201a8"
             ],
             [
              0.3333333333333333,
              "#9c179e"
             ],
             [
              0.4444444444444444,
              "#bd3786"
             ],
             [
              0.5555555555555556,
              "#d8576b"
             ],
             [
              0.6666666666666666,
              "#ed7953"
             ],
             [
              0.7777777777777778,
              "#fb9f3a"
             ],
             [
              0.8888888888888888,
              "#fdca26"
             ],
             [
              1,
              "#f0f921"
             ]
            ],
            "type": "contour"
           }
          ],
          "contourcarpet": [
           {
            "colorbar": {
             "outlinewidth": 0,
             "ticks": ""
            },
            "type": "contourcarpet"
           }
          ],
          "heatmap": [
           {
            "colorbar": {
             "outlinewidth": 0,
             "ticks": ""
            },
            "colorscale": [
             [
              0,
              "#0d0887"
             ],
             [
              0.1111111111111111,
              "#46039f"
             ],
             [
              0.2222222222222222,
              "#7201a8"
             ],
             [
              0.3333333333333333,
              "#9c179e"
             ],
             [
              0.4444444444444444,
              "#bd3786"
             ],
             [
              0.5555555555555556,
              "#d8576b"
             ],
             [
              0.6666666666666666,
              "#ed7953"
             ],
             [
              0.7777777777777778,
              "#fb9f3a"
             ],
             [
              0.8888888888888888,
              "#fdca26"
             ],
             [
              1,
              "#f0f921"
             ]
            ],
            "type": "heatmap"
           }
          ],
          "heatmapgl": [
           {
            "colorbar": {
             "outlinewidth": 0,
             "ticks": ""
            },
            "colorscale": [
             [
              0,
              "#0d0887"
             ],
             [
              0.1111111111111111,
              "#46039f"
             ],
             [
              0.2222222222222222,
              "#7201a8"
             ],
             [
              0.3333333333333333,
              "#9c179e"
             ],
             [
              0.4444444444444444,
              "#bd3786"
             ],
             [
              0.5555555555555556,
              "#d8576b"
             ],
             [
              0.6666666666666666,
              "#ed7953"
             ],
             [
              0.7777777777777778,
              "#fb9f3a"
             ],
             [
              0.8888888888888888,
              "#fdca26"
             ],
             [
              1,
              "#f0f921"
             ]
            ],
            "type": "heatmapgl"
           }
          ],
          "histogram": [
           {
            "marker": {
             "colorbar": {
              "outlinewidth": 0,
              "ticks": ""
             }
            },
            "type": "histogram"
           }
          ],
          "histogram2d": [
           {
            "colorbar": {
             "outlinewidth": 0,
             "ticks": ""
            },
            "colorscale": [
             [
              0,
              "#0d0887"
             ],
             [
              0.1111111111111111,
              "#46039f"
             ],
             [
              0.2222222222222222,
              "#7201a8"
             ],
             [
              0.3333333333333333,
              "#9c179e"
             ],
             [
              0.4444444444444444,
              "#bd3786"
             ],
             [
              0.5555555555555556,
              "#d8576b"
             ],
             [
              0.6666666666666666,
              "#ed7953"
             ],
             [
              0.7777777777777778,
              "#fb9f3a"
             ],
             [
              0.8888888888888888,
              "#fdca26"
             ],
             [
              1,
              "#f0f921"
             ]
            ],
            "type": "histogram2d"
           }
          ],
          "histogram2dcontour": [
           {
            "colorbar": {
             "outlinewidth": 0,
             "ticks": ""
            },
            "colorscale": [
             [
              0,
              "#0d0887"
             ],
             [
              0.1111111111111111,
              "#46039f"
             ],
             [
              0.2222222222222222,
              "#7201a8"
             ],
             [
              0.3333333333333333,
              "#9c179e"
             ],
             [
              0.4444444444444444,
              "#bd3786"
             ],
             [
              0.5555555555555556,
              "#d8576b"
             ],
             [
              0.6666666666666666,
              "#ed7953"
             ],
             [
              0.7777777777777778,
              "#fb9f3a"
             ],
             [
              0.8888888888888888,
              "#fdca26"
             ],
             [
              1,
              "#f0f921"
             ]
            ],
            "type": "histogram2dcontour"
           }
          ],
          "mesh3d": [
           {
            "colorbar": {
             "outlinewidth": 0,
             "ticks": ""
            },
            "type": "mesh3d"
           }
          ],
          "parcoords": [
           {
            "line": {
             "colorbar": {
              "outlinewidth": 0,
              "ticks": ""
             }
            },
            "type": "parcoords"
           }
          ],
          "pie": [
           {
            "automargin": true,
            "type": "pie"
           }
          ],
          "scatter": [
           {
            "marker": {
             "colorbar": {
              "outlinewidth": 0,
              "ticks": ""
             }
            },
            "type": "scatter"
           }
          ],
          "scatter3d": [
           {
            "line": {
             "colorbar": {
              "outlinewidth": 0,
              "ticks": ""
             }
            },
            "marker": {
             "colorbar": {
              "outlinewidth": 0,
              "ticks": ""
             }
            },
            "type": "scatter3d"
           }
          ],
          "scattercarpet": [
           {
            "marker": {
             "colorbar": {
              "outlinewidth": 0,
              "ticks": ""
             }
            },
            "type": "scattercarpet"
           }
          ],
          "scattergeo": [
           {
            "marker": {
             "colorbar": {
              "outlinewidth": 0,
              "ticks": ""
             }
            },
            "type": "scattergeo"
           }
          ],
          "scattergl": [
           {
            "marker": {
             "colorbar": {
              "outlinewidth": 0,
              "ticks": ""
             }
            },
            "type": "scattergl"
           }
          ],
          "scattermapbox": [
           {
            "marker": {
             "colorbar": {
              "outlinewidth": 0,
              "ticks": ""
             }
            },
            "type": "scattermapbox"
           }
          ],
          "scatterpolar": [
           {
            "marker": {
             "colorbar": {
              "outlinewidth": 0,
              "ticks": ""
             }
            },
            "type": "scatterpolar"
           }
          ],
          "scatterpolargl": [
           {
            "marker": {
             "colorbar": {
              "outlinewidth": 0,
              "ticks": ""
             }
            },
            "type": "scatterpolargl"
           }
          ],
          "scatterternary": [
           {
            "marker": {
             "colorbar": {
              "outlinewidth": 0,
              "ticks": ""
             }
            },
            "type": "scatterternary"
           }
          ],
          "surface": [
           {
            "colorbar": {
             "outlinewidth": 0,
             "ticks": ""
            },
            "colorscale": [
             [
              0,
              "#0d0887"
             ],
             [
              0.1111111111111111,
              "#46039f"
             ],
             [
              0.2222222222222222,
              "#7201a8"
             ],
             [
              0.3333333333333333,
              "#9c179e"
             ],
             [
              0.4444444444444444,
              "#bd3786"
             ],
             [
              0.5555555555555556,
              "#d8576b"
             ],
             [
              0.6666666666666666,
              "#ed7953"
             ],
             [
              0.7777777777777778,
              "#fb9f3a"
             ],
             [
              0.8888888888888888,
              "#fdca26"
             ],
             [
              1,
              "#f0f921"
             ]
            ],
            "type": "surface"
           }
          ],
          "table": [
           {
            "cells": {
             "fill": {
              "color": "#EBF0F8"
             },
             "line": {
              "color": "white"
             }
            },
            "header": {
             "fill": {
              "color": "#C8D4E3"
             },
             "line": {
              "color": "white"
             }
            },
            "type": "table"
           }
          ]
         },
         "layout": {
          "annotationdefaults": {
           "arrowcolor": "#2a3f5f",
           "arrowhead": 0,
           "arrowwidth": 1
          },
          "autotypenumbers": "strict",
          "coloraxis": {
           "colorbar": {
            "outlinewidth": 0,
            "ticks": ""
           }
          },
          "colorscale": {
           "diverging": [
            [
             0,
             "#8e0152"
            ],
            [
             0.1,
             "#c51b7d"
            ],
            [
             0.2,
             "#de77ae"
            ],
            [
             0.3,
             "#f1b6da"
            ],
            [
             0.4,
             "#fde0ef"
            ],
            [
             0.5,
             "#f7f7f7"
            ],
            [
             0.6,
             "#e6f5d0"
            ],
            [
             0.7,
             "#b8e186"
            ],
            [
             0.8,
             "#7fbc41"
            ],
            [
             0.9,
             "#4d9221"
            ],
            [
             1,
             "#276419"
            ]
           ],
           "sequential": [
            [
             0,
             "#0d0887"
            ],
            [
             0.1111111111111111,
             "#46039f"
            ],
            [
             0.2222222222222222,
             "#7201a8"
            ],
            [
             0.3333333333333333,
             "#9c179e"
            ],
            [
             0.4444444444444444,
             "#bd3786"
            ],
            [
             0.5555555555555556,
             "#d8576b"
            ],
            [
             0.6666666666666666,
             "#ed7953"
            ],
            [
             0.7777777777777778,
             "#fb9f3a"
            ],
            [
             0.8888888888888888,
             "#fdca26"
            ],
            [
             1,
             "#f0f921"
            ]
           ],
           "sequentialminus": [
            [
             0,
             "#0d0887"
            ],
            [
             0.1111111111111111,
             "#46039f"
            ],
            [
             0.2222222222222222,
             "#7201a8"
            ],
            [
             0.3333333333333333,
             "#9c179e"
            ],
            [
             0.4444444444444444,
             "#bd3786"
            ],
            [
             0.5555555555555556,
             "#d8576b"
            ],
            [
             0.6666666666666666,
             "#ed7953"
            ],
            [
             0.7777777777777778,
             "#fb9f3a"
            ],
            [
             0.8888888888888888,
             "#fdca26"
            ],
            [
             1,
             "#f0f921"
            ]
           ]
          },
          "colorway": [
           "#636efa",
           "#EF553B",
           "#00cc96",
           "#ab63fa",
           "#FFA15A",
           "#19d3f3",
           "#FF6692",
           "#B6E880",
           "#FF97FF",
           "#FECB52"
          ],
          "font": {
           "color": "#2a3f5f"
          },
          "geo": {
           "bgcolor": "white",
           "lakecolor": "white",
           "landcolor": "#E5ECF6",
           "showlakes": true,
           "showland": true,
           "subunitcolor": "white"
          },
          "hoverlabel": {
           "align": "left"
          },
          "hovermode": "closest",
          "mapbox": {
           "style": "light"
          },
          "paper_bgcolor": "white",
          "plot_bgcolor": "#E5ECF6",
          "polar": {
           "angularaxis": {
            "gridcolor": "white",
            "linecolor": "white",
            "ticks": ""
           },
           "bgcolor": "#E5ECF6",
           "radialaxis": {
            "gridcolor": "white",
            "linecolor": "white",
            "ticks": ""
           }
          },
          "scene": {
           "xaxis": {
            "backgroundcolor": "#E5ECF6",
            "gridcolor": "white",
            "gridwidth": 2,
            "linecolor": "white",
            "showbackground": true,
            "ticks": "",
            "zerolinecolor": "white"
           },
           "yaxis": {
            "backgroundcolor": "#E5ECF6",
            "gridcolor": "white",
            "gridwidth": 2,
            "linecolor": "white",
            "showbackground": true,
            "ticks": "",
            "zerolinecolor": "white"
           },
           "zaxis": {
            "backgroundcolor": "#E5ECF6",
            "gridcolor": "white",
            "gridwidth": 2,
            "linecolor": "white",
            "showbackground": true,
            "ticks": "",
            "zerolinecolor": "white"
           }
          },
          "shapedefaults": {
           "line": {
            "color": "#2a3f5f"
           }
          },
          "ternary": {
           "aaxis": {
            "gridcolor": "white",
            "linecolor": "white",
            "ticks": ""
           },
           "baxis": {
            "gridcolor": "white",
            "linecolor": "white",
            "ticks": ""
           },
           "bgcolor": "#E5ECF6",
           "caxis": {
            "gridcolor": "white",
            "linecolor": "white",
            "ticks": ""
           }
          },
          "title": {
           "x": 0.05
          },
          "xaxis": {
           "automargin": true,
           "gridcolor": "white",
           "linecolor": "white",
           "ticks": "",
           "title": {
            "standoff": 15
           },
           "zerolinecolor": "white",
           "zerolinewidth": 2
          },
          "yaxis": {
           "automargin": true,
           "gridcolor": "white",
           "linecolor": "white",
           "ticks": "",
           "title": {
            "standoff": 15
           },
           "zerolinecolor": "white",
           "zerolinewidth": 2
          }
         }
        }
       }
      }
     },
     "metadata": {},
     "output_type": "display_data"
    }
   ],
   "source": [
    "# HIDE CODE\n",
    "import plotly.graph_objects as go\n",
    "\n",
    "# define the structure\n",
    "levels = [\"Symbol\", \"Sector\", \"Category\"]\n",
    "value_column = \"Market Value\"\n",
    "custom_column = \"Gain/Loss\"\n",
    "\n",
    "# reform the dataframe\n",
    "df_all_trees = build_hierarchical_dataframe(portfolio, levels, value_column, custom_column=custom_column, cal_tot=True)\n",
    "\n",
    "# add additional information to the dataframe\n",
    "df_all_trees['value_dollar'] = df_all_trees['value'].apply(\n",
    "    lambda x: f\"$ {x:,.0f}\")\n",
    "df_all_trees['change'] = df_all_trees['custom'].apply(\n",
    "    lambda x: f\"$ {x:,.0f}\" if x != 0 else \"-\")\n",
    "df_all_trees['change_per'] = (df_all_trees['custom']/(\n",
    "    df_all_trees['value']-df_all_trees['custom'])).apply(\n",
    "        lambda x: f\"{x*100:.1f}%\" if x else '-').replace(\"nan\", \"-\")\n",
    "df_all_trees['change'] = df_all_trees['change'].replace(\"$ nan\", \"-\")\n",
    "df_all_trees['change_per'] = df_all_trees['change_per'].replace(\n",
    "    \"nan%\", \"-\")\n",
    "_df = portfolio[[\"Symbol\", \"Name\"]]\n",
    "df_all_trees['detail'] = df_all_trees[\"id\"].apply(\n",
    "    lambda x: _df[_df[\"Symbol\"] == x][\n",
    "        \"Name\"].values if x.isupper() else '')\n",
    "df_all_trees[\"detail\"] = df_all_trees[\"detail\"].apply(\n",
    "    lambda x: x[0] if len(x) else x)\n",
    "\n",
    "# make the plot\n",
    "fig = go.Figure(go.Sunburst(\n",
    "    labels=df_all_trees['id'],\n",
    "    parents=df_all_trees['parent'],\n",
    "    values=df_all_trees['value'],\n",
    "    branchvalues='total',\n",
    "    textinfo='label+percent entry',\n",
    "    customdata=df_all_trees[['value_dollar', 'change',\n",
    "                             'change_per', 'detail']],\n",
    "    maxdepth=4,\n",
    "    # customize tooltip\n",
    "    hovertemplate=\"<b>%{label}</b><br><br>\"\n",
    "                + \"Market value: %{customdata[0]}<br>\"\n",
    "                + \"Change: %{customdata[1]} (%{customdata[2]})<br>\"\n",
    "                + \"<extra>%{customdata[3]}</extra>\"    \n",
    "\n",
    "))\n",
    "\n",
    "fig.update_traces(textfont_size=14)\n",
    "fig.update_layout(margin=dict(t=10, b=35, r=10, l=10))\n",
    "fig.show()\n"
   ]
  },
  {
   "cell_type": "markdown",
   "metadata": {},
   "source": [
    "## Conclusion\n",
    "\n",
    "I am a bit surprised how legit this randomized allocation looks at first glance (I strongly discourage to invest this way though!). The tooltips (or hover texts) can be used to display additional infos that can't fit into the wedges. In the example above, I put value change, percentage change and ticker description in different sections of the tooltips. There are many customization options and can be found in the documentations [here](https://plotly.github.io/plotly.py-docs/generated/plotly.graph_objects.sunburst.html#plotly.graph_objects.sunburst.Marker). Up next we will see how we can use the same dataframe to build a treemap to visualize investment [performance](./performance.ipynb)."
   ]
  }
 ],
 "metadata": {
  "kernelspec": {
   "display_name": "Python 3.8.6 64-bit ('web-venv')",
   "name": "python386jvsc74a57bd09a3edad073586e8ec22559a3aa839b23bfa1ea18200fd312e13581145a5ce671"
  },
  "language_info": {
   "codemirror_mode": {
    "name": "ipython",
    "version": 3
   },
   "file_extension": ".py",
   "mimetype": "text/x-python",
   "name": "python",
   "nbconvert_exporter": "python",
   "pygments_lexer": "ipython3",
   "version": "3.8.6"
  },
  "widgets": {
   "application/vnd.jupyter.widget-state+json": {
    "state": {},
    "version_major": 2,
    "version_minor": 0
   }
  }
 },
 "nbformat": 4,
 "nbformat_minor": 4
}
