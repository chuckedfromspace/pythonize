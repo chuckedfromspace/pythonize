{
 "cells": [
  {
   "cell_type": "markdown",
   "metadata": {},
   "source": [
    "# Net Worth\n",
    "\n",
    "The main idea here is that, instead of visualizing with a regular pie chart, an interactive sunburst chart with extra tooltips would allow detailed inspection of different equity positions.\n",
    "\n",
    "## Create a randomized portfolio\n",
    "\n",
    "To demonstrate this, I randomly selected 30 tickers from SP500 (a full list is available at [DataHub](https://datahub.io/core/s-and-p-500-companies)) and added 2 ETFs to the list:\n"
   ]
  },
  {
   "cell_type": "code",
   "execution_count": 1,
   "metadata": {},
   "outputs": [
    {
     "data": {
      "text/html": [
       "<div>\n",
       "<style scoped>\n",
       "    .dataframe tbody tr th:only-of-type {\n",
       "        vertical-align: middle;\n",
       "    }\n",
       "\n",
       "    .dataframe tbody tr th {\n",
       "        vertical-align: top;\n",
       "    }\n",
       "\n",
       "    .dataframe thead th {\n",
       "        text-align: right;\n",
       "    }\n",
       "</style>\n",
       "<table border=\"1\" class=\"dataframe\">\n",
       "  <thead>\n",
       "    <tr style=\"text-align: right;\">\n",
       "      <th></th>\n",
       "      <th>Symbol</th>\n",
       "      <th>Name</th>\n",
       "      <th>Sector</th>\n",
       "    </tr>\n",
       "    <tr>\n",
       "      <th>Category</th>\n",
       "      <th></th>\n",
       "      <th></th>\n",
       "      <th></th>\n",
       "    </tr>\n",
       "  </thead>\n",
       "  <tbody>\n",
       "    <tr>\n",
       "      <th>Stock</th>\n",
       "      <td>DXC</td>\n",
       "      <td>DXC Technology</td>\n",
       "      <td>Information Technology</td>\n",
       "    </tr>\n",
       "    <tr>\n",
       "      <th>Stock</th>\n",
       "      <td>UAL</td>\n",
       "      <td>United Airlines Holdings</td>\n",
       "      <td>Industrials</td>\n",
       "    </tr>\n",
       "    <tr>\n",
       "      <th>Stock</th>\n",
       "      <td>LHX</td>\n",
       "      <td>L3Harris Technologies</td>\n",
       "      <td>Industrials</td>\n",
       "    </tr>\n",
       "    <tr>\n",
       "      <th>Stock</th>\n",
       "      <td>LNC</td>\n",
       "      <td>Lincoln National</td>\n",
       "      <td>Financials</td>\n",
       "    </tr>\n",
       "    <tr>\n",
       "      <th>Stock</th>\n",
       "      <td>MTB</td>\n",
       "      <td>M&amp;T Bank Corp.</td>\n",
       "      <td>Financials</td>\n",
       "    </tr>\n",
       "    <tr>\n",
       "      <th>Stock</th>\n",
       "      <td>DLR</td>\n",
       "      <td>Digital Realty Trust Inc</td>\n",
       "      <td>Real Estate</td>\n",
       "    </tr>\n",
       "    <tr>\n",
       "      <th>Stock</th>\n",
       "      <td>KR</td>\n",
       "      <td>Kroger Co.</td>\n",
       "      <td>Consumer Staples</td>\n",
       "    </tr>\n",
       "    <tr>\n",
       "      <th>Stock</th>\n",
       "      <td>EBAY</td>\n",
       "      <td>eBay Inc.</td>\n",
       "      <td>Consumer Discretionary</td>\n",
       "    </tr>\n",
       "    <tr>\n",
       "      <th>Stock</th>\n",
       "      <td>PH</td>\n",
       "      <td>Parker-Hannifin</td>\n",
       "      <td>Industrials</td>\n",
       "    </tr>\n",
       "    <tr>\n",
       "      <th>Stock</th>\n",
       "      <td>WRK</td>\n",
       "      <td>WestRock</td>\n",
       "      <td>Materials</td>\n",
       "    </tr>\n",
       "    <tr>\n",
       "      <th>Stock</th>\n",
       "      <td>FE</td>\n",
       "      <td>FirstEnergy Corp</td>\n",
       "      <td>Utilities</td>\n",
       "    </tr>\n",
       "    <tr>\n",
       "      <th>Stock</th>\n",
       "      <td>AON</td>\n",
       "      <td>Aon plc</td>\n",
       "      <td>Financials</td>\n",
       "    </tr>\n",
       "    <tr>\n",
       "      <th>Stock</th>\n",
       "      <td>LRCX</td>\n",
       "      <td>Lam Research</td>\n",
       "      <td>Information Technology</td>\n",
       "    </tr>\n",
       "    <tr>\n",
       "      <th>Stock</th>\n",
       "      <td>CPRT</td>\n",
       "      <td>Copart Inc</td>\n",
       "      <td>Industrials</td>\n",
       "    </tr>\n",
       "    <tr>\n",
       "      <th>Stock</th>\n",
       "      <td>NKE</td>\n",
       "      <td>Nike Inc.</td>\n",
       "      <td>Consumer Discretionary</td>\n",
       "    </tr>\n",
       "    <tr>\n",
       "      <th>Stock</th>\n",
       "      <td>ROL</td>\n",
       "      <td>Rollins Inc.</td>\n",
       "      <td>Industrials</td>\n",
       "    </tr>\n",
       "    <tr>\n",
       "      <th>Stock</th>\n",
       "      <td>ABBV</td>\n",
       "      <td>AbbVie Inc.</td>\n",
       "      <td>Health Care</td>\n",
       "    </tr>\n",
       "    <tr>\n",
       "      <th>Stock</th>\n",
       "      <td>WYNN</td>\n",
       "      <td>Wynn Resorts Ltd</td>\n",
       "      <td>Consumer Discretionary</td>\n",
       "    </tr>\n",
       "    <tr>\n",
       "      <th>Stock</th>\n",
       "      <td>JNPR</td>\n",
       "      <td>Juniper Networks</td>\n",
       "      <td>Information Technology</td>\n",
       "    </tr>\n",
       "    <tr>\n",
       "      <th>Stock</th>\n",
       "      <td>MMM</td>\n",
       "      <td>3M Company</td>\n",
       "      <td>Industrials</td>\n",
       "    </tr>\n",
       "    <tr>\n",
       "      <th>Stock</th>\n",
       "      <td>LVS</td>\n",
       "      <td>Las Vegas Sands</td>\n",
       "      <td>Consumer Discretionary</td>\n",
       "    </tr>\n",
       "    <tr>\n",
       "      <th>Stock</th>\n",
       "      <td>IBM</td>\n",
       "      <td>International Business Machines</td>\n",
       "      <td>Information Technology</td>\n",
       "    </tr>\n",
       "    <tr>\n",
       "      <th>Stock</th>\n",
       "      <td>GRMN</td>\n",
       "      <td>Garmin Ltd.</td>\n",
       "      <td>Consumer Discretionary</td>\n",
       "    </tr>\n",
       "    <tr>\n",
       "      <th>Stock</th>\n",
       "      <td>BRK.B</td>\n",
       "      <td>Berkshire Hathaway</td>\n",
       "      <td>Financials</td>\n",
       "    </tr>\n",
       "    <tr>\n",
       "      <th>Stock</th>\n",
       "      <td>BDX</td>\n",
       "      <td>Becton Dickinson</td>\n",
       "      <td>Health Care</td>\n",
       "    </tr>\n",
       "    <tr>\n",
       "      <th>Stock</th>\n",
       "      <td>TJX</td>\n",
       "      <td>TJX Companies Inc.</td>\n",
       "      <td>Consumer Discretionary</td>\n",
       "    </tr>\n",
       "    <tr>\n",
       "      <th>Stock</th>\n",
       "      <td>KMB</td>\n",
       "      <td>Kimberly-Clark</td>\n",
       "      <td>Consumer Staples</td>\n",
       "    </tr>\n",
       "    <tr>\n",
       "      <th>Stock</th>\n",
       "      <td>HPQ</td>\n",
       "      <td>HP Inc.</td>\n",
       "      <td>Information Technology</td>\n",
       "    </tr>\n",
       "    <tr>\n",
       "      <th>Stock</th>\n",
       "      <td>MPC</td>\n",
       "      <td>Marathon Petroleum</td>\n",
       "      <td>Energy</td>\n",
       "    </tr>\n",
       "    <tr>\n",
       "      <th>Stock</th>\n",
       "      <td>SLB</td>\n",
       "      <td>Schlumberger Ltd.</td>\n",
       "      <td>Energy</td>\n",
       "    </tr>\n",
       "    <tr>\n",
       "      <th>ETF</th>\n",
       "      <td>VTI</td>\n",
       "      <td>Vanguard Total Stock Market</td>\n",
       "      <td>Index</td>\n",
       "    </tr>\n",
       "    <tr>\n",
       "      <th>ETF</th>\n",
       "      <td>BND</td>\n",
       "      <td>Vanguard Total Bond Market</td>\n",
       "      <td>Bond</td>\n",
       "    </tr>\n",
       "  </tbody>\n",
       "</table>\n",
       "</div>"
      ],
      "text/plain": [
       "         Symbol                             Name                  Sector\n",
       "Category                                                                \n",
       "Stock       DXC                   DXC Technology  Information Technology\n",
       "Stock       UAL         United Airlines Holdings             Industrials\n",
       "Stock       LHX            L3Harris Technologies             Industrials\n",
       "Stock       LNC                 Lincoln National              Financials\n",
       "Stock       MTB                   M&T Bank Corp.              Financials\n",
       "Stock       DLR         Digital Realty Trust Inc             Real Estate\n",
       "Stock        KR                       Kroger Co.        Consumer Staples\n",
       "Stock      EBAY                        eBay Inc.  Consumer Discretionary\n",
       "Stock        PH                  Parker-Hannifin             Industrials\n",
       "Stock       WRK                         WestRock               Materials\n",
       "Stock        FE                 FirstEnergy Corp               Utilities\n",
       "Stock       AON                          Aon plc              Financials\n",
       "Stock      LRCX                     Lam Research  Information Technology\n",
       "Stock      CPRT                       Copart Inc             Industrials\n",
       "Stock       NKE                        Nike Inc.  Consumer Discretionary\n",
       "Stock       ROL                     Rollins Inc.             Industrials\n",
       "Stock      ABBV                      AbbVie Inc.             Health Care\n",
       "Stock      WYNN                 Wynn Resorts Ltd  Consumer Discretionary\n",
       "Stock      JNPR                 Juniper Networks  Information Technology\n",
       "Stock       MMM                       3M Company             Industrials\n",
       "Stock       LVS                  Las Vegas Sands  Consumer Discretionary\n",
       "Stock       IBM  International Business Machines  Information Technology\n",
       "Stock      GRMN                      Garmin Ltd.  Consumer Discretionary\n",
       "Stock     BRK.B               Berkshire Hathaway              Financials\n",
       "Stock       BDX                 Becton Dickinson             Health Care\n",
       "Stock       TJX               TJX Companies Inc.  Consumer Discretionary\n",
       "Stock       KMB                   Kimberly-Clark        Consumer Staples\n",
       "Stock       HPQ                          HP Inc.  Information Technology\n",
       "Stock       MPC               Marathon Petroleum                  Energy\n",
       "Stock       SLB                Schlumberger Ltd.                  Energy\n",
       "ETF         VTI      Vanguard Total Stock Market                   Index\n",
       "ETF         BND       Vanguard Total Bond Market                    Bond"
      ]
     },
     "execution_count": 1,
     "metadata": {},
     "output_type": "execute_result"
    }
   ],
   "source": [
    "import pandas as pd\n",
    "\n",
    "symbols_list = pd.read_csv(\"../src/data/random_samples_sp500.csv\")\n",
    "symbols_list.set_index(\"Category\")"
   ]
  },
  {
   "cell_type": "markdown",
   "metadata": {},
   "source": [
    "Now we can add some fictional positions with these based on these ticker symbols using the module `yfinance`:\n",
    "\n",
    "```python\n",
    "import time\n",
    "import yfinance as yf\n",
    "\n",
    "def get_stock_info(symbol):\n",
    "    time.sleep(3)\n",
    "    stock = yf.Ticker(symbol.replace(\".\", \"-\"))\n",
    "    print(f\"\\rLooking {symbol:s}...\", end=\"\")\n",
    "    return stock.info\n",
    "\n",
    "portfolio = symbols_list.copy()\n",
    "portfolio[\"Info\"] = portfolio[\"Symbol\"].apply(lambda x: get_stock_info(x))\n",
    "```\n",
    "\n",
    "Since this process may take a while to run, I will continue by directly loading the result stored in a dataframe. You could check out the dictionaries stored under the \"Info\" column for each ticker but we will only use three of them to create a mock investment portfolio: \"previousClose\", \"fiftyTwoWeekLow\" and \"fiftyTwoWeekHigh\"."
   ]
  },
  {
   "cell_type": "code",
   "execution_count": 2,
   "metadata": {},
   "outputs": [],
   "source": [
    "import random\n",
    "\n",
    "# set the seed to make the result reproducible\n",
    "random.seed(110)\n",
    "\n",
    "portfolio = pd.read_pickle(\"../src/data/portfolio.pkl\")\n",
    "\n",
    "# assign a random number of shares to each symbol\n",
    "portfolio[\"Quantity\"] = portfolio[\"Symbol\"].apply(lambda x: random.randint(2, 10))\n",
    "\n",
    "# assign market value based on previousClose\n",
    "portfolio[\"Market Value\"] = portfolio[\"Info\"].apply(lambda x: x[\"previousClose\"])*portfolio[\"Quantity\"]\n",
    "\n",
    "# assign cost basis based on random price between 52 low and high\n",
    "portfolio[\"Cost Basis\"] = portfolio[\"Info\"].apply(lambda x: random.uniform(x[\"fiftyTwoWeekLow\"], x[\"fiftyTwoWeekHigh\"]))*portfolio[\"Quantity\"]\n",
    "\n",
    "# calculate the gain/loss\n",
    "portfolio[\"Gain/Loss\"] = portfolio[\"Market Value\"] - portfolio[\"Cost Basis\"]"
   ]
  },
  {
   "cell_type": "markdown",
   "metadata": {},
   "source": [
    "Now we can drop the \"Info\" column and check how the table looks like:"
   ]
  },
  {
   "cell_type": "code",
   "execution_count": 3,
   "metadata": {},
   "outputs": [
    {
     "data": {
      "text/html": [
       "<div>\n",
       "<style scoped>\n",
       "    .dataframe tbody tr th:only-of-type {\n",
       "        vertical-align: middle;\n",
       "    }\n",
       "\n",
       "    .dataframe tbody tr th {\n",
       "        vertical-align: top;\n",
       "    }\n",
       "\n",
       "    .dataframe thead th {\n",
       "        text-align: right;\n",
       "    }\n",
       "</style>\n",
       "<table border=\"1\" class=\"dataframe\">\n",
       "  <thead>\n",
       "    <tr style=\"text-align: right;\">\n",
       "      <th></th>\n",
       "      <th>Symbol</th>\n",
       "      <th>Name</th>\n",
       "      <th>Sector</th>\n",
       "      <th>Category</th>\n",
       "      <th>Quantity</th>\n",
       "      <th>Market Value</th>\n",
       "      <th>Cost Basis</th>\n",
       "      <th>Gain/Loss</th>\n",
       "    </tr>\n",
       "  </thead>\n",
       "  <tbody>\n",
       "    <tr>\n",
       "      <th>0</th>\n",
       "      <td>DXC</td>\n",
       "      <td>DXC Technology</td>\n",
       "      <td>Information Technology</td>\n",
       "      <td>Stock</td>\n",
       "      <td>6</td>\n",
       "      <td>177.60</td>\n",
       "      <td>160.282060</td>\n",
       "      <td>17.317940</td>\n",
       "    </tr>\n",
       "    <tr>\n",
       "      <th>1</th>\n",
       "      <td>UAL</td>\n",
       "      <td>United Airlines Holdings</td>\n",
       "      <td>Industrials</td>\n",
       "      <td>Stock</td>\n",
       "      <td>3</td>\n",
       "      <td>129.87</td>\n",
       "      <td>101.940732</td>\n",
       "      <td>27.929268</td>\n",
       "    </tr>\n",
       "    <tr>\n",
       "      <th>2</th>\n",
       "      <td>LHX</td>\n",
       "      <td>L3Harris Technologies</td>\n",
       "      <td>Industrials</td>\n",
       "      <td>Stock</td>\n",
       "      <td>2</td>\n",
       "      <td>361.40</td>\n",
       "      <td>448.366847</td>\n",
       "      <td>-86.966847</td>\n",
       "    </tr>\n",
       "    <tr>\n",
       "      <th>3</th>\n",
       "      <td>LNC</td>\n",
       "      <td>Lincoln National</td>\n",
       "      <td>Financials</td>\n",
       "      <td>Stock</td>\n",
       "      <td>4</td>\n",
       "      <td>205.64</td>\n",
       "      <td>125.182620</td>\n",
       "      <td>80.457380</td>\n",
       "    </tr>\n",
       "    <tr>\n",
       "      <th>4</th>\n",
       "      <td>MTB</td>\n",
       "      <td>M&amp;T Bank Corp.</td>\n",
       "      <td>Financials</td>\n",
       "      <td>Stock</td>\n",
       "      <td>4</td>\n",
       "      <td>576.96</td>\n",
       "      <td>343.418184</td>\n",
       "      <td>233.541816</td>\n",
       "    </tr>\n",
       "  </tbody>\n",
       "</table>\n",
       "</div>"
      ],
      "text/plain": [
       "  Symbol                      Name                  Sector Category  Quantity  \\\n",
       "0    DXC            DXC Technology  Information Technology    Stock         6   \n",
       "1    UAL  United Airlines Holdings             Industrials    Stock         3   \n",
       "2    LHX     L3Harris Technologies             Industrials    Stock         2   \n",
       "3    LNC          Lincoln National              Financials    Stock         4   \n",
       "4    MTB            M&T Bank Corp.              Financials    Stock         4   \n",
       "\n",
       "   Market Value  Cost Basis   Gain/Loss  \n",
       "0        177.60  160.282060   17.317940  \n",
       "1        129.87  101.940732   27.929268  \n",
       "2        361.40  448.366847  -86.966847  \n",
       "3        205.64  125.182620   80.457380  \n",
       "4        576.96  343.418184  233.541816  "
      ]
     },
     "execution_count": 3,
     "metadata": {},
     "output_type": "execute_result"
    }
   ],
   "source": [
    "portfolio.drop(columns=\"Info\", inplace=True)\n",
    "portfolio.head()"
   ]
  },
  {
   "cell_type": "markdown",
   "metadata": {},
   "source": [
    "Looks good. So now we can add some reserve cash to the portfolio:"
   ]
  },
  {
   "cell_type": "code",
   "execution_count": 4,
   "metadata": {},
   "outputs": [
    {
     "data": {
      "text/html": [
       "<div>\n",
       "<style scoped>\n",
       "    .dataframe tbody tr th:only-of-type {\n",
       "        vertical-align: middle;\n",
       "    }\n",
       "\n",
       "    .dataframe tbody tr th {\n",
       "        vertical-align: top;\n",
       "    }\n",
       "\n",
       "    .dataframe thead th {\n",
       "        text-align: right;\n",
       "    }\n",
       "</style>\n",
       "<table border=\"1\" class=\"dataframe\">\n",
       "  <thead>\n",
       "    <tr style=\"text-align: right;\">\n",
       "      <th></th>\n",
       "      <th>Symbol</th>\n",
       "      <th>Name</th>\n",
       "      <th>Sector</th>\n",
       "      <th>Category</th>\n",
       "      <th>Quantity</th>\n",
       "      <th>Market Value</th>\n",
       "      <th>Cost Basis</th>\n",
       "      <th>Gain/Loss</th>\n",
       "    </tr>\n",
       "  </thead>\n",
       "  <tbody>\n",
       "    <tr>\n",
       "      <th>29</th>\n",
       "      <td>SLB</td>\n",
       "      <td>Schlumberger Ltd.</td>\n",
       "      <td>Energy</td>\n",
       "      <td>Stock</td>\n",
       "      <td>10</td>\n",
       "      <td>248.40</td>\n",
       "      <td>242.508239</td>\n",
       "      <td>5.891761</td>\n",
       "    </tr>\n",
       "    <tr>\n",
       "      <th>30</th>\n",
       "      <td>VTI</td>\n",
       "      <td>Vanguard Total Stock Market</td>\n",
       "      <td>Index</td>\n",
       "      <td>ETF</td>\n",
       "      <td>7</td>\n",
       "      <td>1394.75</td>\n",
       "      <td>1242.695649</td>\n",
       "      <td>152.054351</td>\n",
       "    </tr>\n",
       "    <tr>\n",
       "      <th>31</th>\n",
       "      <td>BND</td>\n",
       "      <td>Vanguard Total Bond Market</td>\n",
       "      <td>Bond</td>\n",
       "      <td>ETF</td>\n",
       "      <td>2</td>\n",
       "      <td>174.54</td>\n",
       "      <td>164.802809</td>\n",
       "      <td>9.737191</td>\n",
       "    </tr>\n",
       "    <tr>\n",
       "      <th>0</th>\n",
       "      <td></td>\n",
       "      <td></td>\n",
       "      <td>Debit</td>\n",
       "      <td>Cash</td>\n",
       "      <td>0</td>\n",
       "      <td>2000.00</td>\n",
       "      <td>0.000000</td>\n",
       "      <td>0.000000</td>\n",
       "    </tr>\n",
       "    <tr>\n",
       "      <th>0</th>\n",
       "      <td></td>\n",
       "      <td></td>\n",
       "      <td>Savings</td>\n",
       "      <td>Cash</td>\n",
       "      <td>0</td>\n",
       "      <td>1000.00</td>\n",
       "      <td>0.000000</td>\n",
       "      <td>0.000000</td>\n",
       "    </tr>\n",
       "  </tbody>\n",
       "</table>\n",
       "</div>"
      ],
      "text/plain": [
       "   Symbol                         Name   Sector Category  Quantity  \\\n",
       "29    SLB            Schlumberger Ltd.   Energy    Stock        10   \n",
       "30    VTI  Vanguard Total Stock Market    Index      ETF         7   \n",
       "31    BND   Vanguard Total Bond Market     Bond      ETF         2   \n",
       "0                                         Debit     Cash         0   \n",
       "0                                       Savings     Cash         0   \n",
       "\n",
       "    Market Value   Cost Basis   Gain/Loss  \n",
       "29        248.40   242.508239    5.891761  \n",
       "30       1394.75  1242.695649  152.054351  \n",
       "31        174.54   164.802809    9.737191  \n",
       "0        2000.00     0.000000    0.000000  \n",
       "0        1000.00     0.000000    0.000000  "
      ]
     },
     "execution_count": 4,
     "metadata": {},
     "output_type": "execute_result"
    }
   ],
   "source": [
    "debit_pos = pd.DataFrame([[\"\", \"\", \"Debit\", \"Cash\", 0, 2000.00, 0, 0]], columns=portfolio.columns)\n",
    "sav_pos = pd.DataFrame([[\"\", \"\", \"Savings\", \"Cash\", 0, 1000.00, 0, 0]], columns=portfolio.columns)\n",
    "portfolio = pd.concat([portfolio, debit_pos, sav_pos])\n",
    "\n",
    "portfolio.iloc[-5:, :]"
   ]
  },
  {
   "cell_type": "markdown",
   "metadata": {},
   "source": [
    "## Create the sunburst chart\n",
    "\n",
    "Now that's done, we can finally start making some plots. In order to make a sunburst plot with `plotly`, we need to construct a hierarchical dataframe. An example can be found [here](https://plotly.com/python/sunburst-charts/). I adapted the function a bit to our needs (click on \"+\" to reveal the code)."
   ]
  },
  {
   "cell_type": "code",
   "execution_count": 5,
   "metadata": {
    "tags": [
     "hide-input"
    ]
   },
   "outputs": [],
   "source": [
    "# HIDE CODE\n",
    "def build_hierarchical_dataframe(df, levels, value_column,\n",
    "                                 custom_column=None, cal_tot=True):\n",
    "    \"\"\"Build a hierarchy of levels for Sunburst and Treemap charts.\n",
    "    \"\"\"\n",
    "    df_all_trees = pd.DataFrame(columns=['id', 'parent', 'value', 'custom'])\n",
    "    for i, level in enumerate(levels):\n",
    "        df_tree = pd.DataFrame(columns=['id', 'parent', 'value', 'custom'])\n",
    "        dfg = df.groupby(levels[i:]).sum()\n",
    "        dfg = dfg.reset_index()\n",
    "        df_tree['id'] = dfg[level].copy()\n",
    "        if i < len(levels) - 1:\n",
    "            df_tree['parent'] = dfg[levels[i+1]].copy()\n",
    "        else:\n",
    "            if cal_tot:\n",
    "                df_tree['parent'] = 'Total'\n",
    "        df_tree['value'] = dfg[value_column]\n",
    "        if custom_column:\n",
    "            df_tree['custom'] = dfg[custom_column]\n",
    "        df_all_trees = df_all_trees.append(df_tree, ignore_index=True)\n",
    "    if cal_tot:\n",
    "        total = pd.Series(dict(id='Total', parent='',\n",
    "                                  value=df[value_column].sum()))\n",
    "        df_all_trees = df_all_trees.append(total, ignore_index=True)\n",
    "\n",
    "    return df_all_trees"
   ]
  },
  {
   "cell_type": "markdown",
   "metadata": {},
   "source": [
    "So now we are ready to visualize the portfolio in an interactive sunburst plot. Try click on different wedges to see the cool animation."
   ]
  },
  {
   "cell_type": "code",
   "execution_count": 9,
   "metadata": {
    "tags": [
     "hide-input"
    ]
   },
   "outputs": [
    {
     "data": {
      "application/vnd.plotly.v1+json": {
       "config": {
        "plotlyServerURL": "https://plot.ly"
       },
       "data": [
        {
         "branchvalues": "total",
         "customdata": [
          [
           "$ 2,000",
           "-",
           "-",
           ""
          ],
          [
           "$ 1,000",
           "-",
           "-",
           ""
          ],
          [
           "$ 965",
           "$ 180",
           "22.9%",
           "AbbVie Inc."
          ],
          [
           "$ 2,052",
           "$ -188",
           "-8.4%",
           "Aon plc"
          ],
          [
           "$ 2,040",
           "$ -59",
           "-2.8%",
           "Becton Dickinson"
          ],
          [
           "$ 175",
           "$ 10",
           "5.9%",
           "Vanguard Total Bond Market"
          ],
          [
           "$ 2,340",
           "$ 22",
           "1.0%",
           "Berkshire Hathaway"
          ],
          [
           "$ 611",
           "$ 49",
           "8.7%",
           "Copart Inc"
          ],
          [
           "$ 534",
           "$ -24",
           "-4.2%",
           "Digital Realty Trust Inc"
          ],
          [
           "$ 178",
           "$ 17",
           "10.8%",
           "DXC Technology"
          ],
          [
           "$ 163",
           "$ 77",
           "88.4%",
           "eBay Inc."
          ],
          [
           "$ 209",
           "$ 38",
           "22.4%",
           "FirstEnergy Corp"
          ],
          [
           "$ 366",
           "$ 160",
           "77.8%",
           "Garmin Ltd."
          ],
          [
           "$ 204",
           "$ 43",
           "26.4%",
           "HP Inc."
          ],
          [
           "$ 386",
           "$ -72",
           "-15.7%",
           "International Business Machines"
          ],
          [
           "$ 214",
           "$ 43",
           "24.8%",
           "Juniper Networks"
          ],
          [
           "$ 527",
           "$ -25",
           "-4.6%",
           "Kimberly-Clark"
          ],
          [
           "$ 316",
           "$ -5",
           "-1.4%",
           "Kroger Co."
          ],
          [
           "$ 361",
           "$ -87",
           "-19.4%",
           "L3Harris Technologies"
          ],
          [
           "$ 206",
           "$ 80",
           "64.3%",
           "Lincoln National"
          ],
          [
           "$ 4,013",
           "$ 1,579",
           "64.9%",
           "Lam Research"
          ],
          [
           "$ 232",
           "$ 53",
           "30.0%",
           "Las Vegas Sands"
          ],
          [
           "$ 1,000",
           "$ 116",
           "13.1%",
           "3M Company"
          ],
          [
           "$ 173",
           "$ 65",
           "60.0%",
           "Marathon Petroleum"
          ],
          [
           "$ 577",
           "$ 234",
           "68.0%",
           "M&T Bank Corp."
          ],
          [
           "$ 585",
           "$ 333",
           "132.1%",
           "Nike Inc."
          ],
          [
           "$ 561",
           "$ 68",
           "13.8%",
           "Parker-Hannifin"
          ],
          [
           "$ 245",
           "$ 34",
           "16.0%",
           "Rollins Inc."
          ],
          [
           "$ 248",
           "$ 6",
           "2.4%",
           "Schlumberger Ltd."
          ],
          [
           "$ 702",
           "$ 268",
           "61.7%",
           "TJX Companies Inc."
          ],
          [
           "$ 130",
           "$ 28",
           "27.4%",
           "United Airlines Holdings"
          ],
          [
           "$ 1,395",
           "$ 152",
           "12.2%",
           "Vanguard Total Stock Market"
          ],
          [
           "$ 90",
           "$ 46",
           "104.2%",
           "WestRock"
          ],
          [
           "$ 763",
           "$ -154",
           "-16.8%",
           "Wynn Resorts Ltd"
          ],
          [
           "$ 175",
           "$ 10",
           "5.9%",
           ""
          ],
          [
           "$ 2,812",
           "$ 737",
           "35.5%",
           ""
          ],
          [
           "$ 843",
           "$ -30",
           "-3.4%",
           ""
          ],
          [
           "$ 2,000",
           "-",
           "-",
           ""
          ],
          [
           "$ 421",
           "$ 71",
           "20.2%",
           ""
          ],
          [
           "$ 5,175",
           "$ 148",
           "2.9%",
           ""
          ],
          [
           "$ 3,006",
           "$ 120",
           "4.2%",
           ""
          ],
          [
           "$ 1,395",
           "$ 152",
           "12.2%",
           ""
          ],
          [
           "$ 2,908",
           "$ 207",
           "7.7%",
           ""
          ],
          [
           "$ 4,995",
           "$ 1,610",
           "47.5%",
           ""
          ],
          [
           "$ 90",
           "$ 46",
           "104.2%",
           ""
          ],
          [
           "$ 534",
           "$ -24",
           "-4.2%",
           ""
          ],
          [
           "$ 1,000",
           "-",
           "-",
           ""
          ],
          [
           "$ 209",
           "$ 38",
           "22.4%",
           ""
          ],
          [
           "$ 3,000",
           "-",
           "-",
           ""
          ],
          [
           "$ 1,569",
           "$ 162",
           "11.5%",
           []
          ],
          [
           "$ 20,994",
           "$ 2,924",
           "16.2%",
           ""
          ],
          [
           "$ 25,564",
           "-",
           "-",
           ""
          ]
         ],
         "hovertemplate": "<b>%{label}</b><br><br>Market value: %{customdata[0]}<br>Change: %{customdata[1]} (%{customdata[2]})<br><extra>%{customdata[3]}</extra>",
         "labels": [
          "",
          "",
          "ABBV",
          "AON",
          "BDX",
          "BND",
          "BRK.B",
          "CPRT",
          "DLR",
          "DXC",
          "EBAY",
          "FE",
          "GRMN",
          "HPQ",
          "IBM",
          "JNPR",
          "KMB",
          "KR",
          "LHX",
          "LNC",
          "LRCX",
          "LVS",
          "MMM",
          "MPC",
          "MTB",
          "NKE",
          "PH",
          "ROL",
          "SLB",
          "TJX",
          "UAL",
          "VTI",
          "WRK",
          "WYNN",
          "Bond",
          "Consumer Discretionary",
          "Consumer Staples",
          "Debit",
          "Energy",
          "Financials",
          "Health Care",
          "Index",
          "Industrials",
          "Information Technology",
          "Materials",
          "Real Estate",
          "Savings",
          "Utilities",
          "Cash",
          "ETF",
          "Stock",
          "Total"
         ],
         "maxdepth": 4,
         "parents": [
          "Debit",
          "Savings",
          "Health Care",
          "Financials",
          "Health Care",
          "Bond",
          "Financials",
          "Industrials",
          "Real Estate",
          "Information Technology",
          "Consumer Discretionary",
          "Utilities",
          "Consumer Discretionary",
          "Information Technology",
          "Information Technology",
          "Information Technology",
          "Consumer Staples",
          "Consumer Staples",
          "Industrials",
          "Financials",
          "Information Technology",
          "Consumer Discretionary",
          "Industrials",
          "Energy",
          "Financials",
          "Consumer Discretionary",
          "Industrials",
          "Industrials",
          "Energy",
          "Consumer Discretionary",
          "Industrials",
          "Index",
          "Materials",
          "Consumer Discretionary",
          "ETF",
          "Stock",
          "Stock",
          "Cash",
          "Stock",
          "Stock",
          "Stock",
          "ETF",
          "Stock",
          "Stock",
          "Stock",
          "Stock",
          "Cash",
          "Stock",
          "Total",
          "Total",
          "Total",
          ""
         ],
         "textfont": {
          "size": 14
         },
         "textinfo": "label+percent entry",
         "type": "sunburst",
         "values": [
          2000,
          1000,
          965.43,
          2052.2,
          2040.48,
          174.54,
          2340.3,
          610.9000000000001,
          534.4,
          177.60000000000002,
          163.44,
          209.37,
          365.94,
          204.24,
          385.59000000000003,
          214.20000000000002,
          527.04,
          316.3,
          361.4,
          205.64,
          4013.04,
          231.68,
          999.72,
          172.72,
          576.96,
          585.4,
          561.32,
          244.79999999999998,
          248.4,
          702.2,
          129.87,
          1394.75,
          90.46,
          763.21,
          174.54,
          2811.87,
          843.3399999999999,
          2000,
          421.12,
          5175.1,
          3005.91,
          1394.75,
          2908.01,
          4994.67,
          90.46,
          534.4,
          1000,
          209.37,
          3000,
          1569.29,
          20994.250000000004,
          25563.54
         ]
        }
       ],
       "layout": {
        "margin": {
         "b": 35,
         "l": 10,
         "r": 10,
         "t": 10
        },
        "template": {
         "data": {
          "bar": [
           {
            "error_x": {
             "color": "#2a3f5f"
            },
            "error_y": {
             "color": "#2a3f5f"
            },
            "marker": {
             "line": {
              "color": "#E5ECF6",
              "width": 0.5
             }
            },
            "type": "bar"
           }
          ],
          "barpolar": [
           {
            "marker": {
             "line": {
              "color": "#E5ECF6",
              "width": 0.5
             }
            },
            "type": "barpolar"
           }
          ],
          "carpet": [
           {
            "aaxis": {
             "endlinecolor": "#2a3f5f",
             "gridcolor": "white",
             "linecolor": "white",
             "minorgridcolor": "white",
             "startlinecolor": "#2a3f5f"
            },
            "baxis": {
             "endlinecolor": "#2a3f5f",
             "gridcolor": "white",
             "linecolor": "white",
             "minorgridcolor": "white",
             "startlinecolor": "#2a3f5f"
            },
            "type": "carpet"
           }
          ],
          "choropleth": [
           {
            "colorbar": {
             "outlinewidth": 0,
             "ticks": ""
            },
            "type": "choropleth"
           }
          ],
          "contour": [
           {
            "colorbar": {
             "outlinewidth": 0,
             "ticks": ""
            },
            "colorscale": [
             [
              0,
              "#0d0887"
             ],
             [
              0.1111111111111111,
              "#46039f"
             ],
             [
              0.2222222222222222,
              "#7201a8"
             ],
             [
              0.3333333333333333,
              "#9c179e"
             ],
             [
              0.4444444444444444,
              "#bd3786"
             ],
             [
              0.5555555555555556,
              "#d8576b"
             ],
             [
              0.6666666666666666,
              "#ed7953"
             ],
             [
              0.7777777777777778,
              "#fb9f3a"
             ],
             [
              0.8888888888888888,
              "#fdca26"
             ],
             [
              1,
              "#f0f921"
             ]
            ],
            "type": "contour"
           }
          ],
          "contourcarpet": [
           {
            "colorbar": {
             "outlinewidth": 0,
             "ticks": ""
            },
            "type": "contourcarpet"
           }
          ],
          "heatmap": [
           {
            "colorbar": {
             "outlinewidth": 0,
             "ticks": ""
            },
            "colorscale": [
             [
              0,
              "#0d0887"
             ],
             [
              0.1111111111111111,
              "#46039f"
             ],
             [
              0.2222222222222222,
              "#7201a8"
             ],
             [
              0.3333333333333333,
              "#9c179e"
             ],
             [
              0.4444444444444444,
              "#bd3786"
             ],
             [
              0.5555555555555556,
              "#d8576b"
             ],
             [
              0.6666666666666666,
              "#ed7953"
             ],
             [
              0.7777777777777778,
              "#fb9f3a"
             ],
             [
              0.8888888888888888,
              "#fdca26"
             ],
             [
              1,
              "#f0f921"
             ]
            ],
            "type": "heatmap"
           }
          ],
          "heatmapgl": [
           {
            "colorbar": {
             "outlinewidth": 0,
             "ticks": ""
            },
            "colorscale": [
             [
              0,
              "#0d0887"
             ],
             [
              0.1111111111111111,
              "#46039f"
             ],
             [
              0.2222222222222222,
              "#7201a8"
             ],
             [
              0.3333333333333333,
              "#9c179e"
             ],
             [
              0.4444444444444444,
              "#bd3786"
             ],
             [
              0.5555555555555556,
              "#d8576b"
             ],
             [
              0.6666666666666666,
              "#ed7953"
             ],
             [
              0.7777777777777778,
              "#fb9f3a"
             ],
             [
              0.8888888888888888,
              "#fdca26"
             ],
             [
              1,
              "#f0f921"
             ]
            ],
            "type": "heatmapgl"
           }
          ],
          "histogram": [
           {
            "marker": {
             "colorbar": {
              "outlinewidth": 0,
              "ticks": ""
             }
            },
            "type": "histogram"
           }
          ],
          "histogram2d": [
           {
            "colorbar": {
             "outlinewidth": 0,
             "ticks": ""
            },
            "colorscale": [
             [
              0,
              "#0d0887"
             ],
             [
              0.1111111111111111,
              "#46039f"
             ],
             [
              0.2222222222222222,
              "#7201a8"
             ],
             [
              0.3333333333333333,
              "#9c179e"
             ],
             [
              0.4444444444444444,
              "#bd3786"
             ],
             [
              0.5555555555555556,
              "#d8576b"
             ],
             [
              0.6666666666666666,
              "#ed7953"
             ],
             [
              0.7777777777777778,
              "#fb9f3a"
             ],
             [
              0.8888888888888888,
              "#fdca26"
             ],
             [
              1,
              "#f0f921"
             ]
            ],
            "type": "histogram2d"
           }
          ],
          "histogram2dcontour": [
           {
            "colorbar": {
             "outlinewidth": 0,
             "ticks": ""
            },
            "colorscale": [
             [
              0,
              "#0d0887"
             ],
             [
              0.1111111111111111,
              "#46039f"
             ],
             [
              0.2222222222222222,
              "#7201a8"
             ],
             [
              0.3333333333333333,
              "#9c179e"
             ],
             [
              0.4444444444444444,
              "#bd3786"
             ],
             [
              0.5555555555555556,
              "#d8576b"
             ],
             [
              0.6666666666666666,
              "#ed7953"
             ],
             [
              0.7777777777777778,
              "#fb9f3a"
             ],
             [
              0.8888888888888888,
              "#fdca26"
             ],
             [
              1,
              "#f0f921"
             ]
            ],
            "type": "histogram2dcontour"
           }
          ],
          "mesh3d": [
           {
            "colorbar": {
             "outlinewidth": 0,
             "ticks": ""
            },
            "type": "mesh3d"
           }
          ],
          "parcoords": [
           {
            "line": {
             "colorbar": {
              "outlinewidth": 0,
              "ticks": ""
             }
            },
            "type": "parcoords"
           }
          ],
          "pie": [
           {
            "automargin": true,
            "type": "pie"
           }
          ],
          "scatter": [
           {
            "marker": {
             "colorbar": {
              "outlinewidth": 0,
              "ticks": ""
             }
            },
            "type": "scatter"
           }
          ],
          "scatter3d": [
           {
            "line": {
             "colorbar": {
              "outlinewidth": 0,
              "ticks": ""
             }
            },
            "marker": {
             "colorbar": {
              "outlinewidth": 0,
              "ticks": ""
             }
            },
            "type": "scatter3d"
           }
          ],
          "scattercarpet": [
           {
            "marker": {
             "colorbar": {
              "outlinewidth": 0,
              "ticks": ""
             }
            },
            "type": "scattercarpet"
           }
          ],
          "scattergeo": [
           {
            "marker": {
             "colorbar": {
              "outlinewidth": 0,
              "ticks": ""
             }
            },
            "type": "scattergeo"
           }
          ],
          "scattergl": [
           {
            "marker": {
             "colorbar": {
              "outlinewidth": 0,
              "ticks": ""
             }
            },
            "type": "scattergl"
           }
          ],
          "scattermapbox": [
           {
            "marker": {
             "colorbar": {
              "outlinewidth": 0,
              "ticks": ""
             }
            },
            "type": "scattermapbox"
           }
          ],
          "scatterpolar": [
           {
            "marker": {
             "colorbar": {
              "outlinewidth": 0,
              "ticks": ""
             }
            },
            "type": "scatterpolar"
           }
          ],
          "scatterpolargl": [
           {
            "marker": {
             "colorbar": {
              "outlinewidth": 0,
              "ticks": ""
             }
            },
            "type": "scatterpolargl"
           }
          ],
          "scatterternary": [
           {
            "marker": {
             "colorbar": {
              "outlinewidth": 0,
              "ticks": ""
             }
            },
            "type": "scatterternary"
           }
          ],
          "surface": [
           {
            "colorbar": {
             "outlinewidth": 0,
             "ticks": ""
            },
            "colorscale": [
             [
              0,
              "#0d0887"
             ],
             [
              0.1111111111111111,
              "#46039f"
             ],
             [
              0.2222222222222222,
              "#7201a8"
             ],
             [
              0.3333333333333333,
              "#9c179e"
             ],
             [
              0.4444444444444444,
              "#bd3786"
             ],
             [
              0.5555555555555556,
              "#d8576b"
             ],
             [
              0.6666666666666666,
              "#ed7953"
             ],
             [
              0.7777777777777778,
              "#fb9f3a"
             ],
             [
              0.8888888888888888,
              "#fdca26"
             ],
             [
              1,
              "#f0f921"
             ]
            ],
            "type": "surface"
           }
          ],
          "table": [
           {
            "cells": {
             "fill": {
              "color": "#EBF0F8"
             },
             "line": {
              "color": "white"
             }
            },
            "header": {
             "fill": {
              "color": "#C8D4E3"
             },
             "line": {
              "color": "white"
             }
            },
            "type": "table"
           }
          ]
         },
         "layout": {
          "annotationdefaults": {
           "arrowcolor": "#2a3f5f",
           "arrowhead": 0,
           "arrowwidth": 1
          },
          "autotypenumbers": "strict",
          "coloraxis": {
           "colorbar": {
            "outlinewidth": 0,
            "ticks": ""
           }
          },
          "colorscale": {
           "diverging": [
            [
             0,
             "#8e0152"
            ],
            [
             0.1,
             "#c51b7d"
            ],
            [
             0.2,
             "#de77ae"
            ],
            [
             0.3,
             "#f1b6da"
            ],
            [
             0.4,
             "#fde0ef"
            ],
            [
             0.5,
             "#f7f7f7"
            ],
            [
             0.6,
             "#e6f5d0"
            ],
            [
             0.7,
             "#b8e186"
            ],
            [
             0.8,
             "#7fbc41"
            ],
            [
             0.9,
             "#4d9221"
            ],
            [
             1,
             "#276419"
            ]
           ],
           "sequential": [
            [
             0,
             "#0d0887"
            ],
            [
             0.1111111111111111,
             "#46039f"
            ],
            [
             0.2222222222222222,
             "#7201a8"
            ],
            [
             0.3333333333333333,
             "#9c179e"
            ],
            [
             0.4444444444444444,
             "#bd3786"
            ],
            [
             0.5555555555555556,
             "#d8576b"
            ],
            [
             0.6666666666666666,
             "#ed7953"
            ],
            [
             0.7777777777777778,
             "#fb9f3a"
            ],
            [
             0.8888888888888888,
             "#fdca26"
            ],
            [
             1,
             "#f0f921"
            ]
           ],
           "sequentialminus": [
            [
             0,
             "#0d0887"
            ],
            [
             0.1111111111111111,
             "#46039f"
            ],
            [
             0.2222222222222222,
             "#7201a8"
            ],
            [
             0.3333333333333333,
             "#9c179e"
            ],
            [
             0.4444444444444444,
             "#bd3786"
            ],
            [
             0.5555555555555556,
             "#d8576b"
            ],
            [
             0.6666666666666666,
             "#ed7953"
            ],
            [
             0.7777777777777778,
             "#fb9f3a"
            ],
            [
             0.8888888888888888,
             "#fdca26"
            ],
            [
             1,
             "#f0f921"
            ]
           ]
          },
          "colorway": [
           "#636efa",
           "#EF553B",
           "#00cc96",
           "#ab63fa",
           "#FFA15A",
           "#19d3f3",
           "#FF6692",
           "#B6E880",
           "#FF97FF",
           "#FECB52"
          ],
          "font": {
           "color": "#2a3f5f"
          },
          "geo": {
           "bgcolor": "white",
           "lakecolor": "white",
           "landcolor": "#E5ECF6",
           "showlakes": true,
           "showland": true,
           "subunitcolor": "white"
          },
          "hoverlabel": {
           "align": "left"
          },
          "hovermode": "closest",
          "mapbox": {
           "style": "light"
          },
          "paper_bgcolor": "white",
          "plot_bgcolor": "#E5ECF6",
          "polar": {
           "angularaxis": {
            "gridcolor": "white",
            "linecolor": "white",
            "ticks": ""
           },
           "bgcolor": "#E5ECF6",
           "radialaxis": {
            "gridcolor": "white",
            "linecolor": "white",
            "ticks": ""
           }
          },
          "scene": {
           "xaxis": {
            "backgroundcolor": "#E5ECF6",
            "gridcolor": "white",
            "gridwidth": 2,
            "linecolor": "white",
            "showbackground": true,
            "ticks": "",
            "zerolinecolor": "white"
           },
           "yaxis": {
            "backgroundcolor": "#E5ECF6",
            "gridcolor": "white",
            "gridwidth": 2,
            "linecolor": "white",
            "showbackground": true,
            "ticks": "",
            "zerolinecolor": "white"
           },
           "zaxis": {
            "backgroundcolor": "#E5ECF6",
            "gridcolor": "white",
            "gridwidth": 2,
            "linecolor": "white",
            "showbackground": true,
            "ticks": "",
            "zerolinecolor": "white"
           }
          },
          "shapedefaults": {
           "line": {
            "color": "#2a3f5f"
           }
          },
          "ternary": {
           "aaxis": {
            "gridcolor": "white",
            "linecolor": "white",
            "ticks": ""
           },
           "baxis": {
            "gridcolor": "white",
            "linecolor": "white",
            "ticks": ""
           },
           "bgcolor": "#E5ECF6",
           "caxis": {
            "gridcolor": "white",
            "linecolor": "white",
            "ticks": ""
           }
          },
          "title": {
           "x": 0.05
          },
          "xaxis": {
           "automargin": true,
           "gridcolor": "white",
           "linecolor": "white",
           "ticks": "",
           "title": {
            "standoff": 15
           },
           "zerolinecolor": "white",
           "zerolinewidth": 2
          },
          "yaxis": {
           "automargin": true,
           "gridcolor": "white",
           "linecolor": "white",
           "ticks": "",
           "title": {
            "standoff": 15
           },
           "zerolinecolor": "white",
           "zerolinewidth": 2
          }
         }
        }
       }
      },
      "text/html": [
       "<div>                            <div id=\"9fa31177-1ea4-41b4-b9c2-1ccfb036108a\" class=\"plotly-graph-div\" style=\"height:525px; width:100%;\"></div>            <script type=\"text/javascript\">                require([\"plotly\"], function(Plotly) {                    window.PLOTLYENV=window.PLOTLYENV || {};                                    if (document.getElementById(\"9fa31177-1ea4-41b4-b9c2-1ccfb036108a\")) {                    Plotly.newPlot(                        \"9fa31177-1ea4-41b4-b9c2-1ccfb036108a\",                        [{\"branchvalues\": \"total\", \"customdata\": [[\"$ 2,000\", \"-\", \"-\", \"\"], [\"$ 1,000\", \"-\", \"-\", \"\"], [\"$ 965\", \"$ 180\", \"22.9%\", \"AbbVie Inc.\"], [\"$ 2,052\", \"$ -188\", \"-8.4%\", \"Aon plc\"], [\"$ 2,040\", \"$ -59\", \"-2.8%\", \"Becton Dickinson\"], [\"$ 175\", \"$ 10\", \"5.9%\", \"Vanguard Total Bond Market\"], [\"$ 2,340\", \"$ 22\", \"1.0%\", \"Berkshire Hathaway\"], [\"$ 611\", \"$ 49\", \"8.7%\", \"Copart Inc\"], [\"$ 534\", \"$ -24\", \"-4.2%\", \"Digital Realty Trust Inc\"], [\"$ 178\", \"$ 17\", \"10.8%\", \"DXC Technology\"], [\"$ 163\", \"$ 77\", \"88.4%\", \"eBay Inc.\"], [\"$ 209\", \"$ 38\", \"22.4%\", \"FirstEnergy Corp\"], [\"$ 366\", \"$ 160\", \"77.8%\", \"Garmin Ltd.\"], [\"$ 204\", \"$ 43\", \"26.4%\", \"HP Inc.\"], [\"$ 386\", \"$ -72\", \"-15.7%\", \"International Business Machines\"], [\"$ 214\", \"$ 43\", \"24.8%\", \"Juniper Networks\"], [\"$ 527\", \"$ -25\", \"-4.6%\", \"Kimberly-Clark\"], [\"$ 316\", \"$ -5\", \"-1.4%\", \"Kroger Co.\"], [\"$ 361\", \"$ -87\", \"-19.4%\", \"L3Harris Technologies\"], [\"$ 206\", \"$ 80\", \"64.3%\", \"Lincoln National\"], [\"$ 4,013\", \"$ 1,579\", \"64.9%\", \"Lam Research\"], [\"$ 232\", \"$ 53\", \"30.0%\", \"Las Vegas Sands\"], [\"$ 1,000\", \"$ 116\", \"13.1%\", \"3M Company\"], [\"$ 173\", \"$ 65\", \"60.0%\", \"Marathon Petroleum\"], [\"$ 577\", \"$ 234\", \"68.0%\", \"M&T Bank Corp.\"], [\"$ 585\", \"$ 333\", \"132.1%\", \"Nike Inc.\"], [\"$ 561\", \"$ 68\", \"13.8%\", \"Parker-Hannifin\"], [\"$ 245\", \"$ 34\", \"16.0%\", \"Rollins Inc.\"], [\"$ 248\", \"$ 6\", \"2.4%\", \"Schlumberger Ltd.\"], [\"$ 702\", \"$ 268\", \"61.7%\", \"TJX Companies Inc.\"], [\"$ 130\", \"$ 28\", \"27.4%\", \"United Airlines Holdings\"], [\"$ 1,395\", \"$ 152\", \"12.2%\", \"Vanguard Total Stock Market\"], [\"$ 90\", \"$ 46\", \"104.2%\", \"WestRock\"], [\"$ 763\", \"$ -154\", \"-16.8%\", \"Wynn Resorts Ltd\"], [\"$ 175\", \"$ 10\", \"5.9%\", \"\"], [\"$ 2,812\", \"$ 737\", \"35.5%\", \"\"], [\"$ 843\", \"$ -30\", \"-3.4%\", \"\"], [\"$ 2,000\", \"-\", \"-\", \"\"], [\"$ 421\", \"$ 71\", \"20.2%\", \"\"], [\"$ 5,175\", \"$ 148\", \"2.9%\", \"\"], [\"$ 3,006\", \"$ 120\", \"4.2%\", \"\"], [\"$ 1,395\", \"$ 152\", \"12.2%\", \"\"], [\"$ 2,908\", \"$ 207\", \"7.7%\", \"\"], [\"$ 4,995\", \"$ 1,610\", \"47.5%\", \"\"], [\"$ 90\", \"$ 46\", \"104.2%\", \"\"], [\"$ 534\", \"$ -24\", \"-4.2%\", \"\"], [\"$ 1,000\", \"-\", \"-\", \"\"], [\"$ 209\", \"$ 38\", \"22.4%\", \"\"], [\"$ 3,000\", \"-\", \"-\", \"\"], [\"$ 1,569\", \"$ 162\", \"11.5%\", []], [\"$ 20,994\", \"$ 2,924\", \"16.2%\", \"\"], [\"$ 25,564\", \"-\", \"-\", \"\"]], \"hovertemplate\": \"<b>%{label}</b><br><br>Market value: %{customdata[0]}<br>Change: %{customdata[1]} (%{customdata[2]})<br><extra>%{customdata[3]}</extra>\", \"labels\": [\"\", \"\", \"ABBV\", \"AON\", \"BDX\", \"BND\", \"BRK.B\", \"CPRT\", \"DLR\", \"DXC\", \"EBAY\", \"FE\", \"GRMN\", \"HPQ\", \"IBM\", \"JNPR\", \"KMB\", \"KR\", \"LHX\", \"LNC\", \"LRCX\", \"LVS\", \"MMM\", \"MPC\", \"MTB\", \"NKE\", \"PH\", \"ROL\", \"SLB\", \"TJX\", \"UAL\", \"VTI\", \"WRK\", \"WYNN\", \"Bond\", \"Consumer Discretionary\", \"Consumer Staples\", \"Debit\", \"Energy\", \"Financials\", \"Health Care\", \"Index\", \"Industrials\", \"Information Technology\", \"Materials\", \"Real Estate\", \"Savings\", \"Utilities\", \"Cash\", \"ETF\", \"Stock\", \"Total\"], \"maxdepth\": 4, \"parents\": [\"Debit\", \"Savings\", \"Health Care\", \"Financials\", \"Health Care\", \"Bond\", \"Financials\", \"Industrials\", \"Real Estate\", \"Information Technology\", \"Consumer Discretionary\", \"Utilities\", \"Consumer Discretionary\", \"Information Technology\", \"Information Technology\", \"Information Technology\", \"Consumer Staples\", \"Consumer Staples\", \"Industrials\", \"Financials\", \"Information Technology\", \"Consumer Discretionary\", \"Industrials\", \"Energy\", \"Financials\", \"Consumer Discretionary\", \"Industrials\", \"Industrials\", \"Energy\", \"Consumer Discretionary\", \"Industrials\", \"Index\", \"Materials\", \"Consumer Discretionary\", \"ETF\", \"Stock\", \"Stock\", \"Cash\", \"Stock\", \"Stock\", \"Stock\", \"ETF\", \"Stock\", \"Stock\", \"Stock\", \"Stock\", \"Cash\", \"Stock\", \"Total\", \"Total\", \"Total\", \"\"], \"textfont\": {\"size\": 14}, \"textinfo\": \"label+percent entry\", \"type\": \"sunburst\", \"values\": [2000.0, 1000.0, 965.43, 2052.2, 2040.48, 174.54, 2340.3, 610.9000000000001, 534.4, 177.60000000000002, 163.44, 209.37, 365.94, 204.24, 385.59000000000003, 214.20000000000002, 527.04, 316.3, 361.4, 205.64, 4013.04, 231.68, 999.72, 172.72, 576.96, 585.4, 561.32, 244.79999999999998, 248.4, 702.2, 129.87, 1394.75, 90.46, 763.21, 174.54, 2811.87, 843.3399999999999, 2000.0, 421.12, 5175.1, 3005.91, 1394.75, 2908.01, 4994.67, 90.46, 534.4, 1000.0, 209.37, 3000.0, 1569.29, 20994.250000000004, 25563.54]}],                        {\"margin\": {\"b\": 35, \"l\": 10, \"r\": 10, \"t\": 10}, \"template\": {\"data\": {\"bar\": [{\"error_x\": {\"color\": \"#2a3f5f\"}, \"error_y\": {\"color\": \"#2a3f5f\"}, \"marker\": {\"line\": {\"color\": \"#E5ECF6\", \"width\": 0.5}}, \"type\": \"bar\"}], \"barpolar\": [{\"marker\": {\"line\": {\"color\": \"#E5ECF6\", \"width\": 0.5}}, \"type\": \"barpolar\"}], \"carpet\": [{\"aaxis\": {\"endlinecolor\": \"#2a3f5f\", \"gridcolor\": \"white\", \"linecolor\": \"white\", \"minorgridcolor\": \"white\", \"startlinecolor\": \"#2a3f5f\"}, \"baxis\": {\"endlinecolor\": \"#2a3f5f\", \"gridcolor\": \"white\", \"linecolor\": \"white\", \"minorgridcolor\": \"white\", \"startlinecolor\": \"#2a3f5f\"}, \"type\": \"carpet\"}], \"choropleth\": [{\"colorbar\": {\"outlinewidth\": 0, \"ticks\": \"\"}, \"type\": \"choropleth\"}], \"contour\": [{\"colorbar\": {\"outlinewidth\": 0, \"ticks\": \"\"}, \"colorscale\": [[0.0, \"#0d0887\"], [0.1111111111111111, \"#46039f\"], [0.2222222222222222, \"#7201a8\"], [0.3333333333333333, \"#9c179e\"], [0.4444444444444444, \"#bd3786\"], [0.5555555555555556, \"#d8576b\"], [0.6666666666666666, \"#ed7953\"], [0.7777777777777778, \"#fb9f3a\"], [0.8888888888888888, \"#fdca26\"], [1.0, \"#f0f921\"]], \"type\": \"contour\"}], \"contourcarpet\": [{\"colorbar\": {\"outlinewidth\": 0, \"ticks\": \"\"}, \"type\": \"contourcarpet\"}], \"heatmap\": [{\"colorbar\": {\"outlinewidth\": 0, \"ticks\": \"\"}, \"colorscale\": [[0.0, \"#0d0887\"], [0.1111111111111111, \"#46039f\"], [0.2222222222222222, \"#7201a8\"], [0.3333333333333333, \"#9c179e\"], [0.4444444444444444, \"#bd3786\"], [0.5555555555555556, \"#d8576b\"], [0.6666666666666666, \"#ed7953\"], [0.7777777777777778, \"#fb9f3a\"], [0.8888888888888888, \"#fdca26\"], [1.0, \"#f0f921\"]], \"type\": \"heatmap\"}], \"heatmapgl\": [{\"colorbar\": {\"outlinewidth\": 0, \"ticks\": \"\"}, \"colorscale\": [[0.0, \"#0d0887\"], [0.1111111111111111, \"#46039f\"], [0.2222222222222222, \"#7201a8\"], [0.3333333333333333, \"#9c179e\"], [0.4444444444444444, \"#bd3786\"], [0.5555555555555556, \"#d8576b\"], [0.6666666666666666, \"#ed7953\"], [0.7777777777777778, \"#fb9f3a\"], [0.8888888888888888, \"#fdca26\"], [1.0, \"#f0f921\"]], \"type\": \"heatmapgl\"}], \"histogram\": [{\"marker\": {\"colorbar\": {\"outlinewidth\": 0, \"ticks\": \"\"}}, \"type\": \"histogram\"}], \"histogram2d\": [{\"colorbar\": {\"outlinewidth\": 0, \"ticks\": \"\"}, \"colorscale\": [[0.0, \"#0d0887\"], [0.1111111111111111, \"#46039f\"], [0.2222222222222222, \"#7201a8\"], [0.3333333333333333, \"#9c179e\"], [0.4444444444444444, \"#bd3786\"], [0.5555555555555556, \"#d8576b\"], [0.6666666666666666, \"#ed7953\"], [0.7777777777777778, \"#fb9f3a\"], [0.8888888888888888, \"#fdca26\"], [1.0, \"#f0f921\"]], \"type\": \"histogram2d\"}], \"histogram2dcontour\": [{\"colorbar\": {\"outlinewidth\": 0, \"ticks\": \"\"}, \"colorscale\": [[0.0, \"#0d0887\"], [0.1111111111111111, \"#46039f\"], [0.2222222222222222, \"#7201a8\"], [0.3333333333333333, \"#9c179e\"], [0.4444444444444444, \"#bd3786\"], [0.5555555555555556, \"#d8576b\"], [0.6666666666666666, \"#ed7953\"], [0.7777777777777778, \"#fb9f3a\"], [0.8888888888888888, \"#fdca26\"], [1.0, \"#f0f921\"]], \"type\": \"histogram2dcontour\"}], \"mesh3d\": [{\"colorbar\": {\"outlinewidth\": 0, \"ticks\": \"\"}, \"type\": \"mesh3d\"}], \"parcoords\": [{\"line\": {\"colorbar\": {\"outlinewidth\": 0, \"ticks\": \"\"}}, \"type\": \"parcoords\"}], \"pie\": [{\"automargin\": true, \"type\": \"pie\"}], \"scatter\": [{\"marker\": {\"colorbar\": {\"outlinewidth\": 0, \"ticks\": \"\"}}, \"type\": \"scatter\"}], \"scatter3d\": [{\"line\": {\"colorbar\": {\"outlinewidth\": 0, \"ticks\": \"\"}}, \"marker\": {\"colorbar\": {\"outlinewidth\": 0, \"ticks\": \"\"}}, \"type\": \"scatter3d\"}], \"scattercarpet\": [{\"marker\": {\"colorbar\": {\"outlinewidth\": 0, \"ticks\": \"\"}}, \"type\": \"scattercarpet\"}], \"scattergeo\": [{\"marker\": {\"colorbar\": {\"outlinewidth\": 0, \"ticks\": \"\"}}, \"type\": \"scattergeo\"}], \"scattergl\": [{\"marker\": {\"colorbar\": {\"outlinewidth\": 0, \"ticks\": \"\"}}, \"type\": \"scattergl\"}], \"scattermapbox\": [{\"marker\": {\"colorbar\": {\"outlinewidth\": 0, \"ticks\": \"\"}}, \"type\": \"scattermapbox\"}], \"scatterpolar\": [{\"marker\": {\"colorbar\": {\"outlinewidth\": 0, \"ticks\": \"\"}}, \"type\": \"scatterpolar\"}], \"scatterpolargl\": [{\"marker\": {\"colorbar\": {\"outlinewidth\": 0, \"ticks\": \"\"}}, \"type\": \"scatterpolargl\"}], \"scatterternary\": [{\"marker\": {\"colorbar\": {\"outlinewidth\": 0, \"ticks\": \"\"}}, \"type\": \"scatterternary\"}], \"surface\": [{\"colorbar\": {\"outlinewidth\": 0, \"ticks\": \"\"}, \"colorscale\": [[0.0, \"#0d0887\"], [0.1111111111111111, \"#46039f\"], [0.2222222222222222, \"#7201a8\"], [0.3333333333333333, \"#9c179e\"], [0.4444444444444444, \"#bd3786\"], [0.5555555555555556, \"#d8576b\"], [0.6666666666666666, \"#ed7953\"], [0.7777777777777778, \"#fb9f3a\"], [0.8888888888888888, \"#fdca26\"], [1.0, \"#f0f921\"]], \"type\": \"surface\"}], \"table\": [{\"cells\": {\"fill\": {\"color\": \"#EBF0F8\"}, \"line\": {\"color\": \"white\"}}, \"header\": {\"fill\": {\"color\": \"#C8D4E3\"}, \"line\": {\"color\": \"white\"}}, \"type\": \"table\"}]}, \"layout\": {\"annotationdefaults\": {\"arrowcolor\": \"#2a3f5f\", \"arrowhead\": 0, \"arrowwidth\": 1}, \"autotypenumbers\": \"strict\", \"coloraxis\": {\"colorbar\": {\"outlinewidth\": 0, \"ticks\": \"\"}}, \"colorscale\": {\"diverging\": [[0, \"#8e0152\"], [0.1, \"#c51b7d\"], [0.2, \"#de77ae\"], [0.3, \"#f1b6da\"], [0.4, \"#fde0ef\"], [0.5, \"#f7f7f7\"], [0.6, \"#e6f5d0\"], [0.7, \"#b8e186\"], [0.8, \"#7fbc41\"], [0.9, \"#4d9221\"], [1, \"#276419\"]], \"sequential\": [[0.0, \"#0d0887\"], [0.1111111111111111, \"#46039f\"], [0.2222222222222222, \"#7201a8\"], [0.3333333333333333, \"#9c179e\"], [0.4444444444444444, \"#bd3786\"], [0.5555555555555556, \"#d8576b\"], [0.6666666666666666, \"#ed7953\"], [0.7777777777777778, \"#fb9f3a\"], [0.8888888888888888, \"#fdca26\"], [1.0, \"#f0f921\"]], \"sequentialminus\": [[0.0, \"#0d0887\"], [0.1111111111111111, \"#46039f\"], [0.2222222222222222, \"#7201a8\"], [0.3333333333333333, \"#9c179e\"], [0.4444444444444444, \"#bd3786\"], [0.5555555555555556, \"#d8576b\"], [0.6666666666666666, \"#ed7953\"], [0.7777777777777778, \"#fb9f3a\"], [0.8888888888888888, \"#fdca26\"], [1.0, \"#f0f921\"]]}, \"colorway\": [\"#636efa\", \"#EF553B\", \"#00cc96\", \"#ab63fa\", \"#FFA15A\", \"#19d3f3\", \"#FF6692\", \"#B6E880\", \"#FF97FF\", \"#FECB52\"], \"font\": {\"color\": \"#2a3f5f\"}, \"geo\": {\"bgcolor\": \"white\", \"lakecolor\": \"white\", \"landcolor\": \"#E5ECF6\", \"showlakes\": true, \"showland\": true, \"subunitcolor\": \"white\"}, \"hoverlabel\": {\"align\": \"left\"}, \"hovermode\": \"closest\", \"mapbox\": {\"style\": \"light\"}, \"paper_bgcolor\": \"white\", \"plot_bgcolor\": \"#E5ECF6\", \"polar\": {\"angularaxis\": {\"gridcolor\": \"white\", \"linecolor\": \"white\", \"ticks\": \"\"}, \"bgcolor\": \"#E5ECF6\", \"radialaxis\": {\"gridcolor\": \"white\", \"linecolor\": \"white\", \"ticks\": \"\"}}, \"scene\": {\"xaxis\": {\"backgroundcolor\": \"#E5ECF6\", \"gridcolor\": \"white\", \"gridwidth\": 2, \"linecolor\": \"white\", \"showbackground\": true, \"ticks\": \"\", \"zerolinecolor\": \"white\"}, \"yaxis\": {\"backgroundcolor\": \"#E5ECF6\", \"gridcolor\": \"white\", \"gridwidth\": 2, \"linecolor\": \"white\", \"showbackground\": true, \"ticks\": \"\", \"zerolinecolor\": \"white\"}, \"zaxis\": {\"backgroundcolor\": \"#E5ECF6\", \"gridcolor\": \"white\", \"gridwidth\": 2, \"linecolor\": \"white\", \"showbackground\": true, \"ticks\": \"\", \"zerolinecolor\": \"white\"}}, \"shapedefaults\": {\"line\": {\"color\": \"#2a3f5f\"}}, \"ternary\": {\"aaxis\": {\"gridcolor\": \"white\", \"linecolor\": \"white\", \"ticks\": \"\"}, \"baxis\": {\"gridcolor\": \"white\", \"linecolor\": \"white\", \"ticks\": \"\"}, \"bgcolor\": \"#E5ECF6\", \"caxis\": {\"gridcolor\": \"white\", \"linecolor\": \"white\", \"ticks\": \"\"}}, \"title\": {\"x\": 0.05}, \"xaxis\": {\"automargin\": true, \"gridcolor\": \"white\", \"linecolor\": \"white\", \"ticks\": \"\", \"title\": {\"standoff\": 15}, \"zerolinecolor\": \"white\", \"zerolinewidth\": 2}, \"yaxis\": {\"automargin\": true, \"gridcolor\": \"white\", \"linecolor\": \"white\", \"ticks\": \"\", \"title\": {\"standoff\": 15}, \"zerolinecolor\": \"white\", \"zerolinewidth\": 2}}}},                        {\"responsive\": true}                    ).then(function(){\n",
       "                            \n",
       "var gd = document.getElementById('9fa31177-1ea4-41b4-b9c2-1ccfb036108a');\n",
       "var x = new MutationObserver(function (mutations, observer) {{\n",
       "        var display = window.getComputedStyle(gd).display;\n",
       "        if (!display || display === 'none') {{\n",
       "            console.log([gd, 'removed!']);\n",
       "            Plotly.purge(gd);\n",
       "            observer.disconnect();\n",
       "        }}\n",
       "}});\n",
       "\n",
       "// Listen for the removal of the full notebook cells\n",
       "var notebookContainer = gd.closest('#notebook-container');\n",
       "if (notebookContainer) {{\n",
       "    x.observe(notebookContainer, {childList: true});\n",
       "}}\n",
       "\n",
       "// Listen for the clearing of the current output cell\n",
       "var outputEl = gd.closest('.output');\n",
       "if (outputEl) {{\n",
       "    x.observe(outputEl, {childList: true});\n",
       "}}\n",
       "\n",
       "                        })                };                });            </script>        </div>"
      ]
     },
     "metadata": {},
     "output_type": "display_data"
    }
   ],
   "source": [
    "# HIDE CODE\n",
    "import plotly.graph_objects as go\n",
    "\n",
    "# define the structure\n",
    "levels = [\"Symbol\", \"Sector\", \"Category\"]\n",
    "value_column = \"Market Value\"\n",
    "custom_column = \"Gain/Loss\"\n",
    "\n",
    "# reform the dataframe\n",
    "df_all_trees = build_hierarchical_dataframe(portfolio, levels, value_column, custom_column=custom_column, cal_tot=True)\n",
    "\n",
    "# add additional information to the dataframe\n",
    "df_all_trees['value_dollar'] = df_all_trees['value'].apply(\n",
    "    lambda x: f\"$ {x:,.0f}\")\n",
    "df_all_trees['change'] = df_all_trees['custom'].apply(\n",
    "    lambda x: f\"$ {x:,.0f}\" if x != 0 else \"-\")\n",
    "df_all_trees['change_per'] = (df_all_trees['custom']/(\n",
    "    df_all_trees['value']-df_all_trees['custom'])).apply(\n",
    "        lambda x: f\"{x*100:.1f}%\" if x else '-').replace(\"nan\", \"-\")\n",
    "df_all_trees['change'] = df_all_trees['change'].replace(\"$ nan\", \"-\")\n",
    "df_all_trees['change_per'] = df_all_trees['change_per'].replace(\n",
    "    \"nan%\", \"-\")\n",
    "_df = portfolio[[\"Symbol\", \"Name\"]]\n",
    "df_all_trees['detail'] = df_all_trees[\"id\"].apply(\n",
    "    lambda x: _df[_df[\"Symbol\"] == x][\n",
    "        \"Name\"].values if x.isupper() else '')\n",
    "df_all_trees[\"detail\"] = df_all_trees[\"detail\"].apply(\n",
    "    lambda x: x[0] if len(x) else x)\n",
    "\n",
    "# make the plot\n",
    "fig = go.Figure(go.Sunburst(\n",
    "    labels=df_all_trees['id'],\n",
    "    parents=df_all_trees['parent'],\n",
    "    values=df_all_trees['value'],\n",
    "    branchvalues='total',\n",
    "    textinfo='label+percent entry',\n",
    "    customdata=df_all_trees[['value_dollar', 'change',\n",
    "                             'change_per', 'detail']],\n",
    "    maxdepth=4,\n",
    "    # customize tooltip\n",
    "    hovertemplate=\"<b>%{label}</b><br><br>\"\n",
    "                + \"Market value: %{customdata[0]}<br>\"\n",
    "                + \"Change: %{customdata[1]} (%{customdata[2]})<br>\"\n",
    "                + \"<extra>%{customdata[3]}</extra>\"    \n",
    "\n",
    "))\n",
    "\n",
    "fig.update_traces(textfont_size=14)\n",
    "fig.update_layout(margin=dict(t=10, b=35, r=10, l=10))\n",
    "fig.show()\n"
   ]
  },
  {
   "cell_type": "markdown",
   "metadata": {},
   "source": [
    "## Conclusion\n",
    "\n",
    "I am a bit surprised how legit this randomized portfolio (except for the cash positions) looks like at first glance. The tooltips (or hover texts) can be used to display a lot of infos that can't fit into the wedges. In the example above, I put value change, percentage change and ticker description different sections of the tooltips. There are many customization options for such sunburst charts and can be found in the documentations [here](https://plotly.github.io/plotly.py-docs/generated/plotly.graph_objects.sunburst.html#plotly.graph_objects.sunburst.Marker). Up next we will see how we can use the same dataframe for building a treemap to visualize [performances](./performance.ipynb)."
   ]
  }
 ],
 "metadata": {
  "kernelspec": {
   "display_name": "Python 3",
   "language": "python",
   "name": "python3"
  },
  "language_info": {
   "codemirror_mode": {
    "name": "ipython",
    "version": 3
   },
   "file_extension": ".py",
   "mimetype": "text/x-python",
   "name": "python",
   "nbconvert_exporter": "python",
   "pygments_lexer": "ipython3",
   "version": "3.8.6"
  },
  "widgets": {
   "application/vnd.jupyter.widget-state+json": {
    "state": {},
    "version_major": 2,
    "version_minor": 0
   }
  }
 },
 "nbformat": 4,
 "nbformat_minor": 4
}