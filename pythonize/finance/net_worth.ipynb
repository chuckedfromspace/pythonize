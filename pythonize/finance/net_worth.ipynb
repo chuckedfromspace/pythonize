{
 "cells": [
  {
   "cell_type": "markdown",
   "metadata": {},
   "source": [
    "# Net Worth\n",
    "\n",
    "The main idea here is that, instead of visualizing with a regular pie chart, an interactive sunburst chart with extra tooltips (hover texts) would make inspecting different equity positions more intuitive and fun.\n",
    "\n",
    "## Create a randomized portfolio\n",
    "\n",
    "To demonstrate this, I randomly selected 30 tickers from SP500 (a full list is available at [DataHub](https://datahub.io/core/s-and-p-500-companies)) and added 2 ETFs to the list:\n"
   ]
  },
  {
   "cell_type": "code",
   "execution_count": null,
   "metadata": {},
   "outputs": [],
   "source": [
    "import pandas as pd\n",
    "\n",
    "symbols_list = pd.read_csv(\"../src/data/random_samples_sp500.csv\")\n",
    "symbols_list.set_index(\"Category\")"
   ]
  },
  {
   "cell_type": "markdown",
   "metadata": {},
   "source": [
    "Now we can add some fictional positions based on these ticker symbols using the module `yfinance`:\n",
    "\n",
    "```python\n",
    "import time\n",
    "import yfinance as yf\n",
    "\n",
    "def get_stock_info(symbol):\n",
    "    time.sleep(3)\n",
    "    stock = yf.Ticker(symbol.replace(\".\", \"-\"))\n",
    "    print(f\"\\rLooking {symbol:s}...\", end=\"\")\n",
    "    return stock.info\n",
    "\n",
    "portfolio = symbols_list.copy()\n",
    "portfolio[\"Info\"] = portfolio[\"Symbol\"].apply(lambda x: get_stock_info(x))\n",
    "```\n",
    "\n",
    "Since this process may take a while to run, I will continue by directly loading the result stored in a dataframe. You could check out the dictionaries stored under the \"Info\" column for each ticker but we will only use three of them to create a mock investment portfolio: \"previousClose\", \"fiftyTwoWeekLow\" and \"fiftyTwoWeekHigh\"."
   ]
  },
  {
   "cell_type": "code",
   "execution_count": null,
   "metadata": {},
   "outputs": [],
   "source": [
    "import random\n",
    "\n",
    "# set the seed to make the result reproducible\n",
    "random.seed(110)\n",
    "\n",
    "portfolio = pd.read_pickle(\"../src/data/portfolio.pkl\")\n",
    "\n",
    "# assign a random number of shares to each symbol\n",
    "portfolio[\"Quantity\"] = portfolio[\"Symbol\"].apply(lambda x: random.randint(2, 10))\n",
    "\n",
    "# assign market value based on previousClose\n",
    "portfolio[\"Market Value\"] = portfolio[\"Info\"].apply(lambda x: x[\"previousClose\"])*portfolio[\"Quantity\"]\n",
    "\n",
    "# assign cost basis based on random price between 52 low and high\n",
    "portfolio[\"Cost Basis\"] = portfolio[\"Info\"].apply(lambda x: random.uniform(x[\"fiftyTwoWeekLow\"], x[\"fiftyTwoWeekHigh\"]))*portfolio[\"Quantity\"]\n",
    "\n",
    "# calculate the gain/loss\n",
    "portfolio[\"Gain/Loss\"] = portfolio[\"Market Value\"] - portfolio[\"Cost Basis\"]"
   ]
  },
  {
   "cell_type": "markdown",
   "metadata": {},
   "source": [
    "Now we can drop the \"Info\" column and check how the table looks like:"
   ]
  },
  {
   "cell_type": "code",
   "execution_count": null,
   "metadata": {},
   "outputs": [],
   "source": [
    "portfolio.drop(columns=\"Info\", inplace=True)\n",
    "portfolio.head()"
   ]
  },
  {
   "cell_type": "markdown",
   "metadata": {},
   "source": [
    "Looks good. Let's we can add some reserve cash to the portfolio as well:"
   ]
  },
  {
   "cell_type": "code",
   "execution_count": null,
   "metadata": {},
   "outputs": [],
   "source": [
    "debit_pos = pd.DataFrame([[\"\", \"\", \"Debit\", \"Cash\", 0, 2000.00, 0, 0]], columns=portfolio.columns)\n",
    "sav_pos = pd.DataFrame([[\"\", \"\", \"Savings\", \"Cash\", 0, 1000.00, 0, 0]], columns=portfolio.columns)\n",
    "portfolio = pd.concat([portfolio, debit_pos, sav_pos])\n",
    "\n",
    "portfolio.iloc[-5:, :]"
   ]
  },
  {
   "cell_type": "markdown",
   "metadata": {},
   "source": [
    "## Create the sunburst chart\n",
    "\n",
    "Now that's done, we can finally start making the chart. In order to make a sunburst plot with `plotly`, we need to construct a hierarchical dataframe. An example can be found [here](https://plotly.com/python/sunburst-charts/). I adapted the sample function from the official site a bit to our needs here (click on \"+\" to reveal the code)."
   ]
  },
  {
   "cell_type": "code",
   "execution_count": null,
   "metadata": {
    "tags": [
     "hide-input"
    ]
   },
   "outputs": [],
   "source": [
    "# HIDE CODE\n",
    "def build_hierarchical_dataframe(df, levels, value_column,\n",
    "                                 custom_column=None, cal_tot=True):\n",
    "    \"\"\"Build a hierarchy of levels for Sunburst and Treemap charts.\n",
    "    \"\"\"\n",
    "    df_all_trees = pd.DataFrame(columns=['id', 'parent', 'value', 'custom'])\n",
    "    for i, level in enumerate(levels):\n",
    "        df_tree = pd.DataFrame(columns=['id', 'parent', 'value', 'custom'])\n",
    "        dfg = df.groupby(levels[i:]).sum()\n",
    "        dfg = dfg.reset_index()\n",
    "        df_tree['id'] = dfg[level].copy()\n",
    "        if i < len(levels) - 1:\n",
    "            df_tree['parent'] = dfg[levels[i+1]].copy()\n",
    "        else:\n",
    "            if cal_tot:\n",
    "                df_tree['parent'] = 'Total'\n",
    "        df_tree['value'] = dfg[value_column]\n",
    "        if custom_column:\n",
    "            df_tree['custom'] = dfg[custom_column]\n",
    "        df_all_trees = df_all_trees.append(df_tree, ignore_index=True)\n",
    "    if cal_tot:\n",
    "        total = pd.Series(dict(id='Total', parent='',\n",
    "                                  value=df[value_column].sum()))\n",
    "        df_all_trees = df_all_trees.append(total, ignore_index=True)\n",
    "\n",
    "    return df_all_trees"
   ]
  },
  {
   "cell_type": "markdown",
   "metadata": {},
   "source": [
    "So now we are ready to visualize the portfolio in an interactive sunburst plot. Try click on different wedges to interact with them."
   ]
  },
  {
   "cell_type": "code",
   "execution_count": null,
   "metadata": {
    "tags": [
     "hide-input"
    ]
   },
   "outputs": [],
   "source": [
    "# HIDE CODE\n",
    "import plotly.graph_objects as go\n",
    "\n",
    "# define the structure\n",
    "levels = [\"Symbol\", \"Sector\", \"Category\"]\n",
    "value_column = \"Market Value\"\n",
    "custom_column = \"Gain/Loss\"\n",
    "\n",
    "# reform the dataframe\n",
    "df_all_trees = build_hierarchical_dataframe(portfolio, levels, value_column, custom_column=custom_column, cal_tot=True)\n",
    "\n",
    "# add additional information to the dataframe\n",
    "df_all_trees['value_dollar'] = df_all_trees['value'].apply(\n",
    "    lambda x: f\"$ {x:,.0f}\")\n",
    "df_all_trees['change'] = df_all_trees['custom'].apply(\n",
    "    lambda x: f\"$ {x:,.0f}\" if x != 0 else \"-\")\n",
    "df_all_trees['change_per'] = (df_all_trees['custom']/(\n",
    "    df_all_trees['value']-df_all_trees['custom'])).apply(\n",
    "        lambda x: f\"{x*100:.1f}%\" if x else '-').replace(\"nan\", \"-\")\n",
    "df_all_trees['change'] = df_all_trees['change'].replace(\"$ nan\", \"-\")\n",
    "df_all_trees['change_per'] = df_all_trees['change_per'].replace(\n",
    "    \"nan%\", \"-\")\n",
    "_df = portfolio[[\"Symbol\", \"Name\"]]\n",
    "df_all_trees['detail'] = df_all_trees[\"id\"].apply(\n",
    "    lambda x: _df[_df[\"Symbol\"] == x][\n",
    "        \"Name\"].values if x.isupper() else '')\n",
    "df_all_trees[\"detail\"] = df_all_trees[\"detail\"].apply(\n",
    "    lambda x: x[0] if len(x) else x)\n",
    "\n",
    "# make the plot\n",
    "fig = go.Figure(go.Sunburst(\n",
    "    labels=df_all_trees['id'],\n",
    "    parents=df_all_trees['parent'],\n",
    "    values=df_all_trees['value'],\n",
    "    branchvalues='total',\n",
    "    textinfo='label+percent entry',\n",
    "    customdata=df_all_trees[['value_dollar', 'change',\n",
    "                             'change_per', 'detail']],\n",
    "    maxdepth=4,\n",
    "    # customize tooltip\n",
    "    hovertemplate=\"<b>%{label}</b><br><br>\"\n",
    "                + \"Market value: %{customdata[0]}<br>\"\n",
    "                + \"Change: %{customdata[1]} (%{customdata[2]})<br>\"\n",
    "                + \"<extra>%{customdata[3]}</extra>\"    \n",
    "\n",
    "))\n",
    "\n",
    "fig.update_traces(textfont_size=14)\n",
    "fig.update_layout(margin=dict(t=10, b=35, r=10, l=10))\n",
    "fig.show()\n"
   ]
  },
  {
   "cell_type": "markdown",
   "metadata": {},
   "source": [
    "## Conclusion\n",
    "\n",
    "I am a bit surprised how legit this randomized allocation looks at first glance (I strongly discourage to invest this way though!). The tooltips (or hover texts) can be used to display additional infos that can't fit into the wedges. In the example above, I put value change, percentage change and ticker description in different sections of the tooltips. There are many customization options and can be found in the documentations [here](https://plotly.github.io/plotly.py-docs/generated/plotly.graph_objects.sunburst.html#plotly.graph_objects.sunburst.Marker). Up next we will see how we can use the same dataframe to build a treemap to visualize investment [performance](./performance.ipynb)."
   ]
  }
 ],
 "metadata": {
  "kernelspec": {
   "display_name": "Python 3",
   "language": "python",
   "name": "python3"
  },
  "language_info": {
   "codemirror_mode": {
    "name": "ipython",
    "version": 3
   },
   "file_extension": ".py",
   "mimetype": "text/x-python",
   "name": "python",
   "nbconvert_exporter": "python",
   "pygments_lexer": "ipython3",
   "version": "3.8.6"
  },
  "widgets": {
   "application/vnd.jupyter.widget-state+json": {
    "state": {},
    "version_major": 2,
    "version_minor": 0
   }
  }
 },
 "nbformat": 4,
 "nbformat_minor": 4
}